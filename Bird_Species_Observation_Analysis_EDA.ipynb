{
  "cells": [
    {
      "cell_type": "code",
      "execution_count": null,
      "metadata": {
        "id": "I1apcow5dxii"
      },
      "outputs": [],
      "source": []
    },
    {
      "cell_type": "markdown",
      "metadata": {
        "id": "vncDsAP0Gaoa"
      },
      "source": [
        "# **Project Name**    - Bird Species Observation Analysis\n",
        "\n"
      ]
    },
    {
      "cell_type": "markdown",
      "metadata": {
        "id": "beRrZCGUAJYm"
      },
      "source": [
        "##### **Project Type**    - EDA\n",
        "##### **Contribution**    - Individual\n",
        "##### **Team Member 1 -**\n",
        "##### **Team Member 2 -**\n",
        "##### **Team Member 3 -**\n",
        "##### **Team Member 4 -**"
      ]
    },
    {
      "cell_type": "markdown",
      "metadata": {
        "id": "FJNUwmbgGyua"
      },
      "source": [
        "# **Project Summary -** Bird Species Observation Analysis"
      ]
    },
    {
      "cell_type": "markdown",
      "metadata": {
        "id": "F6v_1wHtG2nS"
      },
      "source": [
        "\n",
        "This project, Bird Species Observation Analysis, focuses on understanding the diversity, distribution, and habitat preferences of different bird species observed across forest and grassland ecosystems. The main objective of this analysis was to identify which bird species are most common, how species counts vary across ecosystems, and what patterns can be observed in terms of species richness and habitat association.\n",
        "\n",
        "Objective\n",
        "Birds are crucial indicators of ecosystem health. By studying their distribution, we can gain valuable insights into habitat quality, biodiversity conservation, and potential environmental changes. This project aimed to use Exploratory Data Analysis (EDA) to extract meaningful patterns from bird observation data, enabling us to answer questions such as:\n",
        "\n",
        "Which bird species are most frequently observed?\n",
        "\n",
        "How does species diversity differ between forest and grassland habitats?\n",
        "\n",
        "Are certain species habitat-specific or widely distributed?\n",
        "\n",
        "Data Overview\n",
        "The dataset used in this project is a merged and cleaned table named Bird_Ecosystem, which includes the following key columns:\n",
        "\n",
        "Common_Name – The common name of each bird species observed.\n",
        "\n",
        "Location_Type – Indicates the habitat type, either Forest or Grassland.\n",
        "\n",
        "Observation_Count – Number of times each species was recorded.\n",
        "\n",
        "The dataset was first checked for null values, duplicates, and inconsistencies, and necessary cleaning steps were applied. Columns were stripped of unwanted spaces, and the data was formatted for smooth analysis.\n",
        "\n",
        "EDA Process\n",
        "The analysis followed a step-by-step EDA process using Python (Pandas, NumPy, Matplotlib):\n",
        "\n",
        "Data Cleaning:\n",
        "\n",
        "Removed duplicates and handled missing values.\n",
        "\n",
        "Standardized species and ecosystem naming formats.\n",
        "\n",
        "Descriptive Statistics:\n",
        "\n",
        "Found the total number of unique species.\n",
        "\n",
        "Counted species per ecosystem type.\n",
        "\n",
        "Visualization and Insights:\n",
        "Multiple visualizations were used to better understand species distribution:\n",
        "\n",
        "Bar Charts for top 10 most observed species.\n",
        "\n",
        "Pie Charts to show percentage distribution of species between forest and grassland.\n",
        "\n",
        "Stacked Bar Charts to visualize how each species is distributed across ecosystems.\n",
        "\n",
        "Line Charts to detect seasonal or observational trends (if date data was present).\n",
        "\n",
        "Crosstab & Heatmap (later replaced with simpler visual for clarity) to analyze frequency of species presence across ecosystems.\n",
        "\n",
        "Key Insights from EDA:\n",
        "Species Richness: Forest ecosystems hosted a slightly higher number of unique species compared to grasslands, indicating richer biodiversity in forests.\n",
        "\n",
        "Dominant Species: Certain species appeared frequently in both ecosystems, while some were exclusive to one habitat. For example, Species A and Species B were forest specialists, while Species C was more abundant in grasslands.\n",
        "\n",
        "Habitat Preference: Many species showed strong preference toward one habitat type, reflecting ecosystem-specific food availability and nesting conditions.\n",
        "\n",
        "Biodiversity Patterns: Balanced species distribution in grasslands indicates stable ecosystem conditions, whereas dominance of few species in certain forest areas could signal either natural dominance or reduced species diversity due to competition.\n",
        "\n",
        "Potential Positive Business & Conservation Impact:\n",
        "While this project is primarily scientific, the insights gained can help wildlife conservation organizations, environmental policymakers, and eco-tourism businesses:\n",
        "\n",
        "Conservation Planning: Data helps prioritize conservation efforts in habitats where biodiversity is under threat.\n",
        "\n",
        "Eco-Tourism: Identifying high-diversity birding spots can help design nature trails and birdwatching tours, boosting local tourism revenue.\n",
        "\n",
        "Environmental Monitoring: Species observation trends can be used to monitor habitat health over time and detect early signs of environmental change.\n",
        "\n",
        "Conclusion:\n",
        "This project successfully demonstrates how data analytics can be applied to biodiversity studies. Through EDA, we identified habitat preferences, dominant species, and biodiversity patterns across forest and grassland ecosystems. These findings not only provide scientific value but can also guide eco-friendly business initiatives and conservation strategies. The approach used here can be extended to larger datasets, seasonal variations, or different regions to build more comprehensive biodiversity insights in the future."
      ]
    },
    {
      "cell_type": "markdown",
      "metadata": {
        "id": "w6K7xa23Elo4"
      },
      "source": [
        "# **GitHub Link -**"
      ]
    },
    {
      "cell_type": "markdown",
      "metadata": {
        "id": "h1o69JH3Eqqn"
      },
      "source": [
        "Provide your GitHub Link here."
      ]
    },
    {
      "cell_type": "markdown",
      "metadata": {
        "id": "yQaldy8SH6Dl"
      },
      "source": [
        "# **Problem Statement**\n"
      ]
    },
    {
      "cell_type": "markdown",
      "metadata": {
        "id": "DpeJGUA3kjGy"
      },
      "source": [
        "Biodiversity plays a crucial role in maintaining the balance and health of ecosystems, and birds are key indicators of environmental change. However, with increasing threats such as habitat loss, climate change, and human activities, monitoring bird populations has become essential for conservation planning.\n",
        "\n",
        "This project addresses the challenge of understanding bird species distribution and diversity across two primary ecosystem types: forest and grassland. The aim is to analyze observational data to identify:\n",
        "\n",
        "Which bird species are most common or rare in each ecosystem\n",
        "\n",
        "How species diversity varies between forest and grassland habitats\n",
        "\n",
        "Potential habitat preferences and ecosystem dependencies of different bird species\n",
        "\n",
        "By conducting Exploratory Data Analysis (EDA), we seek to uncover meaningful trends, patterns, and anomalies in the dataset that can help wildlife researchers, ecologists, and conservation planners make informed decisions.\n",
        "\n",
        "The ultimate goal is to provide data-driven insights that can guide habitat preservation strategies, support biodiversity initiatives, and contribute to sustainable ecosystem management."
      ]
    },
    {
      "cell_type": "markdown",
      "metadata": {
        "id": "PH-0ReGfmX4f"
      },
      "source": [
        "#### **Define Your Business Objective?**"
      ]
    },
    {
      "cell_type": "markdown",
      "metadata": {
        "id": "PhDvGCAqmjP1"
      },
      "source": [
        "Answer Here- Business Objective:\n",
        "To analyze and understand the distribution and diversity of bird species across different ecosystems, specifically forest and grassland habitats.\n",
        "\n",
        "To identify key bird species that are most frequently observed in each ecosystem type.\n",
        "\n",
        "To explore patterns and trends in bird observations that can inform conservation efforts and habitat management.\n",
        "\n",
        "To provide actionable insights for wildlife researchers, ecologists, and environmental planners to support biodiversity preservation.\n",
        "\n",
        "To detect any ecosystem-specific species preferences or indicators of habitat health.\n",
        "\n",
        "To enable stakeholders to make data-driven decisions for protecting vulnerable or endangered bird species.\n",
        "\n",
        "To highlight areas with rich species diversity that may require focused environmental protection.\n",
        "\n",
        "To create a foundation for further advanced studies, such as the impact of climate change or human activities on bird populations.\n",
        "\n"
      ]
    },
    {
      "cell_type": "markdown",
      "metadata": {
        "id": "mDgbUHAGgjLW"
      },
      "source": [
        "# **General Guidelines** : -  "
      ]
    },
    {
      "cell_type": "markdown",
      "metadata": {
        "id": "ZrxVaUj-hHfC"
      },
      "source": [
        "1.   Well-structured, formatted, and commented code is required.\n",
        "2.   Exception Handling, Production Grade Code & Deployment Ready Code will be a plus. Those students will be awarded some additional credits.\n",
        "     \n",
        "     The additional credits will have advantages over other students during Star Student selection.\n",
        "       \n",
        "             [ Note: - Deployment Ready Code is defined as, the whole .ipynb notebook should be executable in one go\n",
        "                       without a single error logged. ]\n",
        "\n",
        "3.   Each and every logic should have proper comments.\n",
        "4. You may add as many number of charts you want. Make Sure for each and every chart the following format should be answered.\n",
        "        \n",
        "\n",
        "```\n",
        "# Chart visualization code\n",
        "```\n",
        "            \n",
        "\n",
        "*   Why did you pick the specific chart?\n",
        "*   What is/are the insight(s) found from the chart?\n",
        "* Will the gained insights help creating a positive business impact?\n",
        "Are there any insights that lead to negative growth? Justify with specific reason.\n",
        "\n",
        "5. You have to create at least 20 logical & meaningful charts having important insights.\n",
        "\n",
        "\n",
        "[ Hints : - Do the Vizualization in  a structured way while following \"UBM\" Rule.\n",
        "\n",
        "U - Univariate Analysis,\n",
        "\n",
        "B - Bivariate Analysis (Numerical - Categorical, Numerical - Numerical, Categorical - Categorical)\n",
        "\n",
        "M - Multivariate Analysis\n",
        " ]\n",
        "\n",
        "\n",
        "\n"
      ]
    },
    {
      "cell_type": "markdown",
      "metadata": {
        "id": "O_i_v8NEhb9l"
      },
      "source": [
        "# ***Let's Begin !***"
      ]
    },
    {
      "cell_type": "markdown",
      "metadata": {
        "id": "HhfV-JJviCcP"
      },
      "source": [
        "## ***1. Know Your Data***"
      ]
    },
    {
      "cell_type": "markdown",
      "metadata": {
        "id": "Y3lxredqlCYt"
      },
      "source": [
        "### Import Libraries"
      ]
    },
    {
      "cell_type": "code",
      "execution_count": 1,
      "metadata": {
        "id": "M8Vqi-pPk-HR"
      },
      "outputs": [],
      "source": [
        "# Import Libraries\n",
        "import pandas as pd\n",
        "import numpy as np\n",
        "import matplotlib.pyplot as plt\n",
        "import seaborn as sns"
      ]
    },
    {
      "cell_type": "markdown",
      "metadata": {
        "id": "3RnN4peoiCZX"
      },
      "source": [
        "### Dataset Loading"
      ]
    },
    {
      "cell_type": "code",
      "execution_count": null,
      "metadata": {
        "id": "4CkvbW_SlZ_R"
      },
      "outputs": [
        {
          "name": "stderr",
          "output_type": "stream",
          "text": [
            "C:\\Users\\shrut\\AppData\\Local\\Temp\\ipykernel_20112\\2089672550.py:13: FutureWarning: The behavior of DataFrame concatenation with empty or all-NA entries is deprecated. In a future version, this will no longer exclude empty or all-NA columns when determining the result dtypes. To retain the old behavior, exclude the relevant entries before the concat operation.\n",
            "  grassland_df = pd.concat(grassland_dict.values(), ignore_index=True)\n"
          ]
        }
      ],
      "source": [
        "# Load Dataset\n",
        "# Paths to your files\n",
        "forest_file = r\"C:\\Users\\shrut\\Downloads\\Bird_Monitoring_Data_FOREST.XLSX\"\n",
        "grassland_file = r\"C:\\Users\\shrut\\Downloads\\Bird_Monitoring_Data_GRASSLAND.XLSX\"\n",
        "\n",
        "# Read all sheets from Forest and combine\n",
        "forest_dict = pd.read_excel(forest_file, sheet_name=None)  # None = read all sheets\n",
        "forest_df = pd.concat(forest_dict.values(), ignore_index=True)\n",
        "forest_df['Habitat'] = 'Forest'  # Add identifier column\n",
        "\n",
        "# Read all sheets from Grassland and combine\n",
        "grassland_dict = pd.read_excel(grassland_file, sheet_name=None)\n",
        "grassland_df = pd.concat(grassland_dict.values(), ignore_index=True)\n",
        "grassland_df['Habitat'] = 'Grassland'\n",
        "\n",
        "# Combine both datasets into one\n",
        "bird_data = pd.concat([forest_df, grassland_df], ignore_index=True)\n"
      ]
    },
    {
      "cell_type": "markdown",
      "metadata": {
        "id": "x71ZqKXriCWQ"
      },
      "source": [
        "### Dataset First View"
      ]
    },
    {
      "cell_type": "code",
      "execution_count": 4,
      "metadata": {
        "id": "LWNFOSvLl09H"
      },
      "outputs": [
        {
          "name": "stdout",
          "output_type": "stream",
          "text": [
            "✅ Combined Dataset:\n",
            "  Admin_Unit_Code Sub_Unit_Code Site_Name  Plot_Name Location_Type  Year  \\\n",
            "0            ANTI           NaN    ANTI 1  ANTI-0036        Forest  2018   \n",
            "1            ANTI           NaN    ANTI 1  ANTI-0036        Forest  2018   \n",
            "2            ANTI           NaN    ANTI 1  ANTI-0036        Forest  2018   \n",
            "3            ANTI           NaN    ANTI 1  ANTI-0036        Forest  2018   \n",
            "4            ANTI           NaN    ANTI 1  ANTI-0036        Forest  2018   \n",
            "\n",
            "        Date Start_Time  End_Time          Observer  ...  \\\n",
            "0 2018-05-22   06:19:00  06:29:00  Elizabeth Oswald  ...   \n",
            "1 2018-05-22   06:19:00  06:29:00  Elizabeth Oswald  ...   \n",
            "2 2018-05-22   06:19:00  06:29:00  Elizabeth Oswald  ...   \n",
            "3 2018-05-22   06:19:00  06:29:00  Elizabeth Oswald  ...   \n",
            "4 2018-05-22   06:19:00  06:29:00  Elizabeth Oswald  ...   \n",
            "\n",
            "  Regional_Stewardship_Status Temperature   Humidity              Sky  \\\n",
            "0                        True        19.9  79.400002  Cloudy/Overcast   \n",
            "1                       False        19.9  79.400002  Cloudy/Overcast   \n",
            "2                       False        19.9  79.400002  Cloudy/Overcast   \n",
            "3                       False        19.9  79.400002  Cloudy/Overcast   \n",
            "4                       False        19.9  79.400002  Cloudy/Overcast   \n",
            "\n",
            "                                    Wind         Disturbance  \\\n",
            "0  Calm (< 1 mph) smoke rises vertically  No effect on count   \n",
            "1  Calm (< 1 mph) smoke rises vertically  No effect on count   \n",
            "2  Calm (< 1 mph) smoke rises vertically  No effect on count   \n",
            "3  Calm (< 1 mph) smoke rises vertically  No effect on count   \n",
            "4  Calm (< 1 mph) smoke rises vertically  No effect on count   \n",
            "\n",
            "  Initial_Three_Min_Cnt Habitat  TaxonCode  Previously_Obs  \n",
            "0                  True  Forest        NaN             NaN  \n",
            "1                  True  Forest        NaN             NaN  \n",
            "2                 False  Forest        NaN             NaN  \n",
            "3                 False  Forest        NaN             NaN  \n",
            "4                 False  Forest        NaN             NaN  \n",
            "\n",
            "[5 rows x 32 columns]\n"
          ]
        }
      ],
      "source": [
        "# Dataset First Look    \n",
        "# Combine both datasets\n",
        "df = pd.concat([forest_df, grassland_df], ignore_index=True)\n",
        "\n",
        "# Check first few rows\n",
        "print(\"✅ Combined Dataset:\")\n",
        "print(df.head())\n"
      ]
    },
    {
      "cell_type": "markdown",
      "metadata": {
        "id": "7hBIi_osiCS2"
      },
      "source": [
        "### Dataset Rows & Columns count"
      ]
    },
    {
      "cell_type": "code",
      "execution_count": 5,
      "metadata": {
        "id": "Kllu7SJgmLij"
      },
      "outputs": [
        {
          "name": "stdout",
          "output_type": "stream",
          "text": [
            "Combined Dataset - Rows: 17077 Columns: 32\n"
          ]
        }
      ],
      "source": [
        "# Dataset Rows & Columns count\n",
        "# Combine datasets\n",
        "df = pd.concat([forest_df, grassland_df], ignore_index=True)\n",
        "\n",
        "# Combined dataset shape\n",
        "print(\"Combined Dataset - Rows:\", df.shape[0], \"Columns:\", df.shape[1])\n",
        "\n"
      ]
    },
    {
      "cell_type": "markdown",
      "metadata": {
        "id": "JlHwYmJAmNHm"
      },
      "source": [
        "### Dataset Information"
      ]
    },
    {
      "cell_type": "code",
      "execution_count": 6,
      "metadata": {
        "id": "e9hRXRi6meOf"
      },
      "outputs": [
        {
          "name": "stdout",
          "output_type": "stream",
          "text": [
            "Combined Dataset Info:\n",
            "<class 'pandas.core.frame.DataFrame'>\n",
            "RangeIndex: 17077 entries, 0 to 17076\n",
            "Data columns (total 32 columns):\n",
            " #   Column                       Non-Null Count  Dtype         \n",
            "---  ------                       --------------  -----         \n",
            " 0   Admin_Unit_Code              17077 non-null  object        \n",
            " 1   Sub_Unit_Code                722 non-null    object        \n",
            " 2   Site_Name                    8546 non-null   object        \n",
            " 3   Plot_Name                    17077 non-null  object        \n",
            " 4   Location_Type                17077 non-null  object        \n",
            " 5   Year                         17077 non-null  object        \n",
            " 6   Date                         17077 non-null  datetime64[ns]\n",
            " 7   Start_Time                   17077 non-null  object        \n",
            " 8   End_Time                     17077 non-null  object        \n",
            " 9   Observer                     17077 non-null  object        \n",
            " 10  Visit                        17077 non-null  object        \n",
            " 11  Interval_Length              17077 non-null  object        \n",
            " 12  ID_Method                    17075 non-null  object        \n",
            " 13  Distance                     15591 non-null  object        \n",
            " 14  Flyover_Observed             17077 non-null  object        \n",
            " 15  Sex                          11894 non-null  object        \n",
            " 16  Common_Name                  17077 non-null  object        \n",
            " 17  Scientific_Name              17077 non-null  object        \n",
            " 18  AcceptedTSN                  17044 non-null  float64       \n",
            " 19  NPSTaxonCode                 8546 non-null   float64       \n",
            " 20  AOU_Code                     17077 non-null  object        \n",
            " 21  PIF_Watchlist_Status         17077 non-null  object        \n",
            " 22  Regional_Stewardship_Status  17077 non-null  object        \n",
            " 23  Temperature                  17077 non-null  float64       \n",
            " 24  Humidity                     17077 non-null  float64       \n",
            " 25  Sky                          17077 non-null  object        \n",
            " 26  Wind                         17077 non-null  object        \n",
            " 27  Disturbance                  17077 non-null  object        \n",
            " 28  Initial_Three_Min_Cnt        17077 non-null  object        \n",
            " 29  Habitat                      17077 non-null  object        \n",
            " 30  TaxonCode                    8529 non-null   float64       \n",
            " 31  Previously_Obs               8531 non-null   object        \n",
            "dtypes: datetime64[ns](1), float64(5), object(26)\n",
            "memory usage: 4.2+ MB\n"
          ]
        }
      ],
      "source": [
        "# Dataset Info\n",
        "#Combined dataset info\n",
        "df = pd.concat([forest_df, grassland_df], ignore_index=True)\n",
        "print(\"Combined Dataset Info:\")\n",
        "df.info()"
      ]
    },
    {
      "cell_type": "markdown",
      "metadata": {
        "id": "35m5QtbWiB9F"
      },
      "source": [
        "#### Duplicate Values"
      ]
    },
    {
      "cell_type": "code",
      "execution_count": 7,
      "metadata": {
        "id": "1sLdpKYkmox0"
      },
      "outputs": [
        {
          "name": "stdout",
          "output_type": "stream",
          "text": [
            "Combined Dataset Duplicate Rows: 1705\n"
          ]
        }
      ],
      "source": [
        "# Dataset Duplicate Value Count\n",
        "df = pd.concat([forest_df, grassland_df], ignore_index=True)\n",
        "combined_duplicates = df.duplicated().sum()\n",
        "print(f\"Combined Dataset Duplicate Rows: {combined_duplicates}\")\n"
      ]
    },
    {
      "cell_type": "markdown",
      "metadata": {
        "id": "PoPl-ycgm1ru"
      },
      "source": [
        "#### Missing Values/Null Values"
      ]
    },
    {
      "cell_type": "code",
      "execution_count": 9,
      "metadata": {
        "id": "GgHWkxvamxVg"
      },
      "outputs": [
        {
          "name": "stdout",
          "output_type": "stream",
          "text": [
            "\n",
            "Combined Dataset Missing Values:\n",
            "Admin_Unit_Code                    0\n",
            "Sub_Unit_Code                  16355\n",
            "Site_Name                       8531\n",
            "Plot_Name                          0\n",
            "Location_Type                      0\n",
            "Year                               0\n",
            "Date                               0\n",
            "Start_Time                         0\n",
            "End_Time                           0\n",
            "Observer                           0\n",
            "Visit                              0\n",
            "Interval_Length                    0\n",
            "ID_Method                          2\n",
            "Distance                        1486\n",
            "Flyover_Observed                   0\n",
            "Sex                             5183\n",
            "Common_Name                        0\n",
            "Scientific_Name                    0\n",
            "AcceptedTSN                       33\n",
            "NPSTaxonCode                    8531\n",
            "AOU_Code                           0\n",
            "PIF_Watchlist_Status               0\n",
            "Regional_Stewardship_Status        0\n",
            "Temperature                        0\n",
            "Humidity                           0\n",
            "Sky                                0\n",
            "Wind                               0\n",
            "Disturbance                        0\n",
            "Initial_Three_Min_Cnt              0\n",
            "Habitat                            0\n",
            "TaxonCode                       8548\n",
            "Previously_Obs                  8546\n",
            "dtype: int64\n"
          ]
        }
      ],
      "source": [
        "# Missing Values/Null Values Count\n",
        "# Combined dataset missing values\n",
        "df = pd.concat([forest_df, grassland_df], ignore_index=True)\n",
        "print(\"\\nCombined Dataset Missing Values:\")\n",
        "print(df.isnull().sum())"
      ]
    },
    {
      "cell_type": "code",
      "execution_count": 11,
      "metadata": {
        "id": "3q5wnI3om9sJ"
      },
      "outputs": [
        {
          "data": {
            "image/png": "[encoded data removed]",
            "text/plain": [
              "<Figure size 1000x500 with 1 Axes>"
            ]
          },
          "metadata": {},
          "output_type": "display_data"
        }
      ],
      "source": [
        "# Visualizing the missing values\n",
        "# Visualizing missing values with a bar graph\n",
        "missing_values = df.isnull().sum()\n",
        "\n",
        "plt.figure(figsize=(10, 5))\n",
        "missing_values.plot(kind='bar', color='orange')\n",
        "plt.title(\"Missing Values per Column\", fontsize=14)\n",
        "plt.xlabel(\"Columns\", fontsize=12)\n",
        "plt.ylabel(\"Number of Missing Values\", fontsize=12)\n",
        "plt.xticks(rotation=45)\n",
        "plt.grid(axis='y', linestyle='--', alpha=0.7)\n",
        "plt.show()\n"
      ]
    },
    {
      "cell_type": "markdown",
      "metadata": {
        "id": "H0kj-8xxnORC"
      },
      "source": [
        "### What did you know about your dataset?"
      ]
    },
    {
      "cell_type": "markdown",
      "metadata": {
        "id": "gfoNAAC-nUe_"
      },
      "source": [
        "Answer Here: This dataset contains records of different bird species observed in two types of habitats – forests and grasslands. Each entry tells us the bird’s name, how many times it was spotted, and the type of habitat where it was found.\n",
        "\n",
        "It’s basically a collection of bird-watching notes that can help us:\n",
        "\n",
        "See which birds are more common in each habitat\n",
        "\n",
        "Compare how diverse the bird life is between forests and grasslands\n",
        "\n",
        "Spot patterns in where and how often certain species appear\n",
        "\n",
        "In simple terms, this data gives us a window into the world of birds in two different ecosystems and can be really helpful for wildlife research, conservation work, and understanding nature better.\n"
      ]
    },
    {
      "cell_type": "markdown",
      "metadata": {
        "id": "nA9Y7ga8ng1Z"
      },
      "source": [
        "## ***2. Understanding Your Variables***"
      ]
    },
    {
      "cell_type": "code",
      "execution_count": 12,
      "metadata": {
        "id": "j7xfkqrt5Ag5"
      },
      "outputs": [
        {
          "name": "stdout",
          "output_type": "stream",
          "text": [
            "Dataset Columns:\n",
            "['Admin_Unit_Code', 'Sub_Unit_Code', 'Site_Name', 'Plot_Name', 'Location_Type', 'Year', 'Date', 'Start_Time', 'End_Time', 'Observer', 'Visit', 'Interval_Length', 'ID_Method', 'Distance', 'Flyover_Observed', 'Sex', 'Common_Name', 'Scientific_Name', 'AcceptedTSN', 'NPSTaxonCode', 'AOU_Code', 'PIF_Watchlist_Status', 'Regional_Stewardship_Status', 'Temperature', 'Humidity', 'Sky', 'Wind', 'Disturbance', 'Initial_Three_Min_Cnt', 'Habitat', 'TaxonCode', 'Previously_Obs']\n"
          ]
        }
      ],
      "source": [
        "# Dataset Columns\n",
        "# Display dataset column names\n",
        "print(\"Dataset Columns:\")\n",
        "print(df.columns.tolist())\n"
      ]
    },
    {
      "cell_type": "code",
      "execution_count": 13,
      "metadata": {
        "id": "DnOaZdaE5Q5t"
      },
      "outputs": [
        {
          "name": "stdout",
          "output_type": "stream",
          "text": [
            "Dataset Description:\n",
            "                                Date    AcceptedTSN   NPSTaxonCode  \\\n",
            "count                          17077   17044.000000    8546.000000   \n",
            "mean   2018-06-13 11:42:14.988581120  222753.084722  137088.791013   \n",
            "min              2018-05-07 00:00:00  174717.000000   76625.000000   \n",
            "25%              2018-05-24 00:00:00  178581.000000   85846.000000   \n",
            "50%              2018-06-14 00:00:00  179124.000000   88350.000000   \n",
            "75%              2018-07-04 00:00:00  179637.000000   94215.000000   \n",
            "max              2018-07-19 00:00:00  950106.000000  926917.000000   \n",
            "std                              NaN  147357.504754  154932.276585   \n",
            "\n",
            "        Temperature      Humidity      TaxonCode  \n",
            "count  17077.000000  17077.000000    8529.000000  \n",
            "mean      22.570399     73.692112  103234.178567  \n",
            "min       11.000000      7.300000   76625.000000  \n",
            "25%       19.700001     67.500000   85643.000000  \n",
            "50%       22.299999     75.800003   88038.000000  \n",
            "75%       25.200001     83.000000   94206.000000  \n",
            "max       37.299999     98.800003  926917.000000  \n",
            "std        4.263851     12.328380   83967.631378  \n"
          ]
        }
      ],
      "source": [
        "# Dataset Describe\n",
        "# Get descriptive statistics\n",
        "print(\"Dataset Description:\")\n",
        "print(df.describe())\n"
      ]
    },
    {
      "cell_type": "markdown",
      "metadata": {
        "id": "PBTbrJXOngz2"
      },
      "source": [
        "### Variables Description"
      ]
    },
    {
      "cell_type": "markdown",
      "metadata": {
        "id": "aJV4KIxSnxay"
      },
      "source": [
        "Answer Here:\n",
        "The dataset contains observational data for bird species recorded across multiple forest sites. It includes detailed columns describing location, observation methods, bird \n",
        "species, and environmental conditions.\n",
        "\n",
        "Admin_Unit_Code: The code for the administrative unit (e.g., \"ANTI\") where the observation was conducted.\n",
        "\n",
        "Sub_Unit_Code: The sub-unit within the administrative unit for further classification.\n",
        "\n",
        "Site_Name: The name of the specific observation site within the unit.\n",
        "\n",
        "Plot_Name: A unique identifier for the specific plot where observations were recorded.\n",
        "\n",
        "Location_Type: The habitat type of the observation area (e.g., \"Forest\").\n",
        "\n",
        "Year: The year in which the observation took place.\n",
        "\n",
        "Date: The exact date of the observation.\n",
        "\n",
        "Start_Time: The start time of the observation session.\n",
        "\n",
        "End_Time: The end time of the observation session.\n",
        "\n",
        "Observer: The individual who conducted the observation.\n",
        "\n",
        "Visit: The count of visits made to the same observation site or plot.\n",
        "\n",
        "Interval_Length: The duration of the observation interval (e.g., \"0-2.5 min\").\n",
        "\n",
        "ID_Method: The method used to identify the species (e.g., \"Singing,\" \"Calling,\" \"Visualization\").\n",
        "\n",
        "Distance: The distance of the observed species from the observer (e.g., \"<= 50 Meters\").\n",
        "\n",
        "Flyover_Observed: Indicates whether the bird was observed flying overhead (TRUE/FALSE).\n",
        "\n",
        "Sex: The sex of the observed bird (e.g., Male, Female, Undetermined).\n",
        "\n",
        "Common_Name: The common name of the observed bird species (e.g., \"Eastern Towhee\").\n",
        "\n",
        "Scientific_Name: The scientific name of the observed bird species (e.g., Pipilo erythrophthalmus).\n",
        "\n",
        "AcceptedTSN: The Taxonomic Serial Number for the observed species.\n",
        "\n",
        "NPSTaxonCode: A unique code assigned to the taxon of the species.\n",
        "\n",
        "AOU_Code: The American Ornithological Union code for the species.\n",
        "\n",
        "PIF_Watchlist_Status: Indicates whether the species is on the Partners in Flight Watchlist (e.g., \"TRUE\" for at-risk species).\n",
        "\n",
        "Regional_Stewardship_Status: Denotes the conservation priority within the region (TRUE/FALSE).\n",
        "\n",
        "Temperature: The temperature recorded at the time of observation (in degrees).\n",
        "\n",
        "Humidity: The humidity percentage recorded at the time of observation.\n",
        "\n",
        "Sky: The sky condition during the observation (e.g., \"Cloudy/Overcast\").\n",
        "\n",
        "Wind: The wind condition (e.g., \"Calm (< 1 mph) smoke rises vertically\").\n",
        "\n",
        "Disturbance: Notes any disturbances that could affect the observation (e.g., \"No effect on count\").\n",
        "\n",
        "Initial_Three_Min_Cnt: The count of the species observed in the first three minutes of the session.\n"
      ]
    },
    {
      "cell_type": "markdown",
      "metadata": {
        "id": "u3PMJOP6ngxN"
      },
      "source": [
        "### Check Unique Values for each variable."
      ]
    },
    {
      "cell_type": "code",
      "execution_count": 14,
      "metadata": {
        "id": "zms12Yq5n-jE"
      },
      "outputs": [
        {
          "name": "stdout",
          "output_type": "stream",
          "text": [
            "\n",
            "Admin_Unit_Code unique values:\n",
            "['ANTI' 'CATO' 'CHOH' 'GWMP' 'HAFE' 'MANA' 'MONO' 'NACE' 'PRWI' 'ROCR'\n",
            " 'WOTR']\n",
            "\n",
            "Sub_Unit_Code unique values:\n",
            "[nan 'THIS' 'GREE' 'PISC' 'FOWA' 'OXHI' 'ANAC' 'FOCI' 'FODU']\n",
            "\n",
            "Site_Name unique values:\n",
            "['ANTI 1' 'ANTI 2' 'CATO 1' 'CATO 4' 'CATO 3' 'CATO 8' 'CATO 6' 'CATO 2'\n",
            " 'CATO 5' 'CATO 7' 'CHOH 1' 'CHOH 6' 'CHOH 8' 'CHOH 7' 'CHOH 10' 'CHOH 5'\n",
            " 'GWMP 2' 'GWMP 4' 'GWMP 3' 'CHOH 18' 'CHOH 12' 'CHOH 14' 'CHOH 11'\n",
            " 'CHOH 15' 'CHOH 16' 'CHOH 17' 'GWMP 5' 'GWMP 6' 'GWMP 1' 'HAFE 2'\n",
            " 'HAFE 1' 'HAFE 3' 'MANA 4' 'MANA 2' 'MANA 1' 'MANA 3' 'MONO 1' 'MONO 2'\n",
            " 'MONO 3' 'NACE 5' 'NACE 2' 'NACE 4b' 'NACE 4a' 'NACE 3' 'NACE 1' 'PRWI 6'\n",
            " 'PRWI 3' 'PRWI 1' 'PRWI 5' 'PRWI 7' 'PRWI 8' 'PRWI 12' 'PRWI 15' 'PRWI 9'\n",
            " 'PRWI 10' 'PRWI 22' 'PRWI 17' 'PRWI 11' 'PRWI 21' 'PRWI 20' 'PRWI 19'\n",
            " 'PRWI 14' 'PRWI 18' 'PRWI 13' 'PRWI 16' 'PRWI 2' 'PRWI 4' 'ROCR 2'\n",
            " 'ROCR 1' 'WOTR' nan]\n",
            "\n",
            "Plot_Name unique values:\n",
            "['ANTI-0036' 'ANTI-0082' 'ANTI-0078' 'ANTI-0025' 'ANTI-0052' 'ANTI-0072'\n",
            " 'ANTI-0092' 'ANTI-0190' 'ANTI-0194' 'ANTI-0200' 'ANTI-0206' 'ANTI-0207'\n",
            " 'ANTI-0201' 'CATO-0003' 'CATO-0016' 'CATO-0035' 'CATO-0037' 'CATO-0049'\n",
            " 'CATO-0237' 'CATO-0294' 'CATO-0160' 'CATO-0271' 'CATO-0176' 'CATO-0101'\n",
            " 'CATO-0092' 'CATO-0062' 'CATO-0098' 'CATO-0094' 'CATO-0365' 'CATO-0347'\n",
            " 'CATO-0346' 'CATO-0359' 'CATO-0342' 'CATO-0004' 'CATO-0303' 'CATO-0323'\n",
            " 'CATO-0150' 'CATO-0206' 'CATO-0238' 'CATO-0022' 'CATO-0086' 'CATO-0084'\n",
            " 'CATO-0104' 'CATO-0153' 'CATO-0302' 'CATO-0333' 'CATO-0316' 'CATO-0275'\n",
            " 'CATO-0280' 'CATO-0242' 'CATO-0258' 'CATO-0268' 'CATO-0211' 'CATO-0330'\n",
            " 'CATO-0311' 'CATO-0313' 'CATO-0331' 'CATO-0158' 'CHOH-0677' 'CHOH-0539'\n",
            " 'CHOH-0487' 'CHOH-0609' 'CHOH-0586' 'CHOH-0074' 'CHOH-0081' 'CHOH-0106'\n",
            " 'CHOH-0102' 'CHOH-0076' 'CHOH-0286' 'CHOH-0267' 'CHOH-0380' 'CHOH-0262'\n",
            " 'CHOH-0002' 'CHOH-0006' 'CHOH-0012' 'CHOH-0008' 'CHOH-0026' 'CHOH-0812'\n",
            " 'CHOH-0832' 'CHOH-0847' 'CHOH-0856' 'CHOH-0428' 'CHOH-0256' 'CHOH-0196'\n",
            " 'CHOH-0198' 'CHOH-0407' 'CHOH-0239' 'CHOH-0389' 'CHOH-0253' 'CHOH-0360'\n",
            " 'CHOH-0666' 'CHOH-0661' 'CHOH-0281' 'CHOH-0433' 'CHOH-0443' 'CHOH-0489'\n",
            " 'CHOH-0679' 'CHOH-0577' 'GWMP-0055' 'GWMP-0072' 'GWMP-0080' 'GWMP-0062'\n",
            " 'CHOH-1336' 'GWMP-0045' 'GWMP-0054' 'CHOH-1388' 'CHOH-1342' 'CHOH-1343'\n",
            " 'CHOH-1350' 'GWMP-0094' 'CHOH-0806' 'CHOH-0795' 'CHOH-0755' 'CHOH-1018'\n",
            " 'CHOH-0989' 'CHOH-0986' 'CHOH-0983' 'CHOH-1111' 'CHOH-1081' 'CHOH-1143'\n",
            " 'CHOH-1124' 'CHOH-1148' 'CHOH-1136' 'CHOH-0942' 'CHOH-0932' 'CHOH-0941'\n",
            " 'CHOH-0961' 'CHOH-1197' 'CHOH-1201' 'CHOH-1183' 'CHOH-1186' 'CHOH-1196'\n",
            " 'CHOH-1191' 'CHOH-1211' 'CHOH-1226' 'CHOH-1235' 'CHOH-1217' 'CHOH-1223'\n",
            " 'CHOH-1319' 'CHOH-1328' 'CHOH-1256' 'CHOH-1241' 'CHOH-1063' 'CHOH-1055'\n",
            " 'CHOH-1045' 'CHOH-1036' 'CHOH-1044' 'CHOH-1028' 'GWMP-0173' 'GWMP-0139'\n",
            " 'GWMP-0145' 'GWMP-0129' 'GWMP-0120' 'GWMP-0208' 'GWMP-0207' 'GWMP-0200'\n",
            " 'GWMP-0256' 'GWMP-0254' 'GWMP-0253' 'GWMP-0286' 'GWMP-0307' 'GWMP-0019'\n",
            " 'GWMP-0008' 'GWMP-0059' 'GWMP-0040' 'GWMP-0057' 'GWMP-0086' 'GWMP-0058'\n",
            " 'HAFE-0053' 'HAFE-0042' 'HAFE-0074' 'HAFE-0061' 'HAFE-0021' 'HAFE-0009'\n",
            " 'HAFE-0039' 'HAFE-0028' 'HAFE-0208' 'HAFE-0218' 'HAFE-0192' 'HAFE-0195'\n",
            " 'HAFE-0154' 'HAFE-0174' 'HAFE-0133' 'HAFE-0118' 'HAFE-0160' 'HAFE-0083'\n",
            " 'HAFE-0030' 'HAFE-0044' 'MANA-0131' 'MANA-0091' 'MANA-0094' 'MANA-0243'\n",
            " 'MANA-0202' 'MANA-0240' 'MANA-0011' 'MANA-0106' 'MANA-0170' 'MANA-0067'\n",
            " 'MANA-0025' 'MANA-0060' 'MANA-0223' 'MANA-0039' 'MANA-0054' 'MANA-0218'\n",
            " 'MANA-0163' 'MANA-0253' 'MANA-0205' 'MANA-0229' 'MANA-0002' 'MANA-0027'\n",
            " 'MANA-0030' 'MANA-0119' 'MONO-0044' 'MONO-0105' 'MONO-0106' 'MONO-0101'\n",
            " 'MONO-0061' 'MONO-0077' 'MONO-0069' 'MONO-0084' 'MONO-0091' 'MONO-0056'\n",
            " 'MONO-0038' 'MONO-0026' 'MONO-0074' 'MONO-0052' 'MONO-0039' 'NACE-0080'\n",
            " 'NACE-0081' 'NACE-0107' 'NACE-0087' 'NACE-0086' 'NACE-0131' 'NACE-0094'\n",
            " 'NACE-0619' 'NACE-0649' 'NACE-0623' 'NACE-0621' 'NACE-0438' 'NACE-0399'\n",
            " 'NACE-0398' 'NACE-0346' 'NACE-0350' 'NACE-0416' 'NACE-0233' 'NACE-0296'\n",
            " 'NACE-0282' 'NACE-0269' 'NACE-0267' 'NACE-0253' 'NACE-0245' 'NACE-0477'\n",
            " 'NACE-0487' 'NACE-0519' 'NACE-0491' 'NACE-0453' 'PRWI-0273' 'PRWI-0360'\n",
            " 'PRWI-0333' 'PRWI-0359' 'PRWI-0395' 'PRWI-0334' 'PRWI-0276' 'PRWI-0277'\n",
            " 'PRWI-0025' 'PRWI-0014' 'PRWI-0075' 'PRWI-0090' 'PRWI-0062' 'PRWI-0060'\n",
            " 'PRWI-0125' 'PRWI-0124' 'PRWI-0039' 'PRWI-0051' 'PRWI-0064' 'PRWI-0020'\n",
            " 'PRWI-0041' 'PRWI-0028' 'PRWI-0012' 'PRWI-0206' 'PRWI-0233' 'PRWI-0093'\n",
            " 'PRWI-0181' 'PRWI-0132' 'PRWI-0129' 'PRWI-0175' 'PRWI-0223' 'PRWI-0220'\n",
            " 'PRWI-0282' 'PRWI-0196' 'PRWI-0313' 'PRWI-0287' 'PRWI-0253' 'PRWI-0227'\n",
            " 'PRWI-0289' 'PRWI-0173' 'PRWI-0199' 'PRWI-0381' 'PRWI-0321' 'PRWI-0349'\n",
            " 'PRWI-0379' 'PRWI-0409' 'PRWI-0378' 'PRWI-0377' 'PRWI-0441' 'PRWI-0530'\n",
            " 'PRWI-0504' 'PRWI-0505' 'PRWI-0475' 'PRWI-0436' 'PRWI-0466' 'PRWI-0369'\n",
            " 'PRWI-0401' 'PRWI-0338' 'PRWI-0431' 'PRWI-0399' 'PRWI-0491' 'PRWI-0463'\n",
            " 'PRWI-0398' 'PRWI-0366' 'PRWI-0620' 'PRWI-0621' 'PRWI-0648' 'PRWI-0728'\n",
            " 'PRWI-0751' 'PRWI-0750' 'PRWI-0238' 'PRWI-0268' 'PRWI-0298' 'PRWI-0512'\n",
            " 'PRWI-0392' 'PRWI-0575' 'PRWI-0601' 'PRWI-0516' 'PRWI-0546' 'PRWI-0744'\n",
            " 'PRWI-0721' 'PRWI-0741' 'PRWI-0742' 'PRWI-0689' 'PRWI-0691' 'PRWI-0641'\n",
            " 'PRWI-0695' 'PRWI-0669' 'PRWI-0722' 'PRWI-0779' 'PRWI-0537' 'PRWI-0539'\n",
            " 'PRWI-0447' 'PRWI-0446' 'PRWI-0477' 'PRWI-0508' 'PRWI-0660' 'PRWI-0738'\n",
            " 'PRWI-0800' 'PRWI-0796' 'PRWI-0783' 'PRWI-0798' 'PRWI-0789' 'PRWI-0712'\n",
            " 'PRWI-0759' 'PRWI-0480' 'PRWI-0325' 'PRWI-0353' 'PRWI-0355' 'PRWI-0417'\n",
            " 'PRWI-0696' 'PRWI-0055' 'PRWI-0053' 'PRWI-0082' 'PRWI-0069' 'PRWI-0097'\n",
            " 'PRWI-0096' 'PRWI-0079' 'PRWI-0080' 'PRWI-0186' 'PRWI-0189' 'PRWI-0144'\n",
            " 'PRWI-0143' 'PRWI-0145' 'PRWI-0120' 'PRWI-0085' 'PRWI-0656' 'PRWI-0653'\n",
            " 'PRWI-0625' 'PRWI-0651' 'PRWI-0555' 'PRWI-0608' 'ROCR-0004' 'ROCR-0010'\n",
            " 'ROCR-0027' 'ROCR-0055' 'ROCR-0045' 'ROCR-0092' 'ROCR-0094' 'ROCR-0145'\n",
            " 'ROCR-0111' 'ROCR-0121' 'ROCR-0079' 'ROCR-0180' 'ROCR-0186' 'ROCR-0172'\n",
            " 'WOTR-0001' 'WOTR-0003' 'WOTR-0004' 'WOTR-0007' 'WOTR-0009' 'WOTR-0008'\n",
            " 'ANTI-0054' 'ANTI-0028' 'ANTI-0027' 'ANTI-0018' 'ANTI-0105' 'ANTI-0090'\n",
            " 'ANTI-0053' 'ANTI-0044' 'ANTI-0035' 'ANTI-0026' 'ANTI-0017' 'ANTI-0009'\n",
            " 'ANTI-0008' 'ANTI-0016' 'ANTI-0015' 'ANTI-0007' 'ANTI-0034' 'ANTI-0043'\n",
            " 'ANTI-0063' 'ANTI-0074' 'ANTI-0075' 'ANTI-0135' 'ANTI-0117' 'ANTI-0116'\n",
            " 'ANTI-0091' 'ANTI-0106' 'ANTI-0108' 'ANTI-0079' 'ANTI-0119' 'ANTI-0107'\n",
            " 'ANTI-0128' 'ANTI-0118' 'ANTI-0137' 'ANTI-0138' 'ANTI-0127' 'ANTI-0126'\n",
            " 'ANTI-0143' 'ANTI-0136' 'ANTI-0133' 'ANTI-0134' 'ANTI-0125' 'ANTI-0124'\n",
            " 'ANTI-0114' 'ANTI-0113' 'ANTI-0101' 'ANTI-0102' 'ANTI-0088' 'ANTI-0087'\n",
            " 'ANTI-0066' 'ANTI-0151' 'ANTI-0150' 'ANTI-0169' 'ANTI-0155' 'ANTI-0154'\n",
            " 'ANTI-0149' 'ANTI-0156' 'ANTI-0188' 'ANTI-0189' 'ANTI-0181' 'ANTI-0180'\n",
            " 'ANTI-0171' 'ANTI-0174' 'ANTI-0163' 'ANTI-0170' 'ANTI-0162' 'ANTI-0161'\n",
            " 'ANTI-0153' 'ANTI-0160' 'ANTI-0148' 'ANTI-0147' 'ANTI-0199' 'ANTI-0182'\n",
            " 'ANTI-0192' 'ANTI-0191' 'ANTI-0183' 'ANTI-0103' 'ANTI-0089' 'ANTI-0104'\n",
            " 'ANTI-0076' 'ANTI-0077' 'ANTI-0142' 'ANTI-0141' 'ANTI-0184' 'ANTI-0140'\n",
            " 'ANTI-0045' 'ANTI-0115' 'HAFE-0184' 'HAFE-0124' 'HAFE-0067' 'MANA-0171'\n",
            " 'MANA-0111' 'MANA-0093' 'MANA-0113' 'MANA-0134' 'MANA-0154' 'MANA-0173'\n",
            " 'MANA-0197' 'MANA-0196' 'MANA-0278' 'MANA-0241' 'MANA-0246' 'MANA-0279'\n",
            " 'MANA-0165' 'MANA-0146' 'MANA-0255' 'MANA-0235' 'MANA-0214' 'MANA-0256'\n",
            " 'MANA-0215' 'MANA-0236' 'MANA-0234' 'MANA-0213' 'MANA-0048' 'MANA-0064'\n",
            " 'MANA-0024' 'MANA-0047' 'MANA-0010' 'MANA-0008' 'MANA-0009' 'MANA-0004'\n",
            " 'MANA-0101' 'MANA-0156' 'MANA-0230' 'MANA-0232' 'MANA-0267' 'MANA-0178'\n",
            " 'MANA-0076' 'MANA-0137' 'MANA-0138' 'MANA-0097' 'MANA-0120' 'MANA-0058'\n",
            " 'MANA-0055' 'MONO-0046' 'MONO-0097' 'MONO-0096' 'MONO-0080' 'MONO-0073'\n",
            " 'MONO-0065' 'MONO-0063' 'MONO-0072' 'MONO-0053' 'MONO-0062' 'MONO-0055'\n",
            " 'MONO-0054' 'MONO-0032' 'MONO-0022' 'MONO-0025' 'MONO-0033' 'MONO-0023'\n",
            " 'MONO-0024' 'MONO-0017' 'MONO-0016' 'MONO-0002' 'MONO-0008' 'MONO-0006'\n",
            " 'MONO-0007' 'MONO-0015' 'MONO-0014' 'MONO-0035' 'MONO-0003' 'MONO-0009'\n",
            " 'MONO-0047' 'MONO-0036' 'MONO-0027' 'MONO-0048' 'MONO-0019' 'MONO-0037'\n",
            " 'MONO-0010' 'MONO-0018' 'MONO-0079' 'MONO-0071' 'MONO-0094' 'MONO-0087'\n",
            " 'MONO-0095' 'MONO-0104' 'MONO-0070' 'MONO-0045' 'MONO-0089' 'MONO-0103'\n",
            " 'MONO-0100' 'MONO-0098' 'MONO-0102' 'MONO-0085' 'MONO-0086' 'MONO-0078'\n",
            " 'MONO-0076' 'MONO-0075' 'MONO-0099' 'MONO-0092' 'MONO-0050' 'MONO-0051'\n",
            " 'MONO-0060' 'MONO-0049' 'MONO-0059' 'MONO-0068' 'MONO-0057' 'MONO-0058'\n",
            " 'MONO-0067' 'MONO-0066' 'MONO-0083']\n",
            "\n",
            "Location_Type unique values:\n",
            "['Forest' 'Grassland']\n",
            "\n",
            "Year unique values:\n",
            "[2018]\n",
            "\n",
            "Date unique values:\n",
            "<DatetimeArray>\n",
            "['2018-05-22 00:00:00', '2018-05-23 00:00:00', '2018-05-24 00:00:00',\n",
            " '2018-06-25 00:00:00', '2018-06-26 00:00:00', '2018-05-25 00:00:00',\n",
            " '2018-05-26 00:00:00', '2018-05-28 00:00:00', '2018-06-13 00:00:00',\n",
            " '2018-06-20 00:00:00', '2018-06-27 00:00:00', '2018-06-28 00:00:00',\n",
            " '2018-05-19 00:00:00', '2018-05-20 00:00:00', '2018-05-21 00:00:00',\n",
            " '2018-05-29 00:00:00', '2018-06-02 00:00:00', '2018-06-04 00:00:00',\n",
            " '2018-06-12 00:00:00', '2018-06-21 00:00:00', '2018-06-24 00:00:00',\n",
            " '2018-06-29 00:00:00', '2018-07-09 00:00:00', '2018-07-10 00:00:00',\n",
            " '2018-07-12 00:00:00', '2018-05-30 00:00:00', '2018-06-30 00:00:00',\n",
            " '2018-05-31 00:00:00', '2018-06-01 00:00:00', '2018-07-06 00:00:00',\n",
            " '2018-07-07 00:00:00', '2018-07-15 00:00:00', '2018-05-15 00:00:00',\n",
            " '2018-05-14 00:00:00', '2018-06-18 00:00:00', '2018-06-19 00:00:00',\n",
            " '2018-07-01 00:00:00', '2018-05-10 00:00:00', '2018-05-07 00:00:00',\n",
            " '2018-05-08 00:00:00', '2018-06-05 00:00:00', '2018-06-14 00:00:00',\n",
            " '2018-05-12 00:00:00', '2018-05-11 00:00:00', '2018-06-17 00:00:00',\n",
            " '2018-06-23 00:00:00', '2018-06-06 00:00:00', '2018-06-07 00:00:00',\n",
            " '2018-06-08 00:00:00', '2018-06-09 00:00:00', '2018-06-10 00:00:00',\n",
            " '2018-07-02 00:00:00', '2018-07-03 00:00:00', '2018-07-04 00:00:00',\n",
            " '2018-07-05 00:00:00', '2018-05-16 00:00:00', '2018-07-08 00:00:00',\n",
            " '2018-07-17 00:00:00', '2018-07-13 00:00:00', '2018-07-16 00:00:00',\n",
            " '2018-07-19 00:00:00', '2018-07-18 00:00:00', '2018-07-14 00:00:00',\n",
            " '2018-07-11 00:00:00']\n",
            "Length: 64, dtype: datetime64[ns]\n",
            "\n",
            "Start_Time unique values:\n",
            "[datetime.time(6, 19) datetime.time(6, 2) datetime.time(7, 21)\n",
            " datetime.time(8, 28) datetime.time(9, 26) datetime.time(10, 1)\n",
            " datetime.time(7, 9) datetime.time(8, 34) datetime.time(7, 22)\n",
            " datetime.time(9, 53) datetime.time(10, 10) datetime.time(10, 27)\n",
            " datetime.time(10, 43) datetime.time(5, 40) datetime.time(8, 17)\n",
            " datetime.time(6, 12) datetime.time(5, 31) datetime.time(8, 14)\n",
            " datetime.time(10, 31) datetime.time(7, 27) datetime.time(7, 11)\n",
            " datetime.time(6, 55) datetime.time(6, 38) datetime.time(8, 0)\n",
            " datetime.time(10, 9) datetime.time(5, 50) datetime.time(9, 22)\n",
            " datetime.time(7, 31) datetime.time(6, 50) datetime.time(6, 14)\n",
            " datetime.time(5, 49) datetime.time(9, 33) datetime.time(8, 45)\n",
            " datetime.time(8, 21) datetime.time(7, 18) datetime.time(8, 33)\n",
            " datetime.time(6, 27) datetime.time(5, 56) datetime.time(7, 54)\n",
            " datetime.time(7, 0) datetime.time(8, 59) datetime.time(6, 54)\n",
            " datetime.time(6, 29) datetime.time(8, 24) datetime.time(7, 30)\n",
            " datetime.time(8, 41) datetime.time(8, 48) datetime.time(7, 16)\n",
            " datetime.time(6, 4) datetime.time(8, 22) datetime.time(6, 46)\n",
            " datetime.time(6, 21) datetime.time(7, 19) datetime.time(7, 47)\n",
            " datetime.time(7, 33) datetime.time(8, 2) datetime.time(7, 1)\n",
            " datetime.time(8, 53) datetime.time(5, 53) datetime.time(6, 34)\n",
            " datetime.time(6, 36) datetime.time(5, 57) datetime.time(7, 29)\n",
            " datetime.time(7, 6) datetime.time(8, 12) datetime.time(9, 28)\n",
            " datetime.time(8, 43) datetime.time(8, 16) datetime.time(7, 23)\n",
            " datetime.time(6, 10) datetime.time(6, 16) datetime.time(6, 41)\n",
            " datetime.time(7, 36) datetime.time(7, 8) datetime.time(6, 53)\n",
            " datetime.time(6, 23) datetime.time(7, 53) datetime.time(8, 37)\n",
            " datetime.time(7, 37) datetime.time(6, 59) datetime.time(9, 10)\n",
            " datetime.time(8, 32) datetime.time(5, 59) datetime.time(7, 46)\n",
            " datetime.time(9, 1) datetime.time(6, 28) datetime.time(5, 55)\n",
            " datetime.time(7, 41) datetime.time(8, 42) datetime.time(8, 11)\n",
            " datetime.time(7, 50) datetime.time(7, 34) datetime.time(7, 17)\n",
            " datetime.time(6, 31) datetime.time(5, 47) datetime.time(6, 32)\n",
            " datetime.time(6, 0) datetime.time(7, 56) datetime.time(7, 7)\n",
            " datetime.time(9, 32) datetime.time(7, 42) datetime.time(8, 9)\n",
            " datetime.time(10, 14) datetime.time(9, 48) datetime.time(7, 12)\n",
            " datetime.time(8, 35) datetime.time(7, 13) datetime.time(7, 58)\n",
            " datetime.time(9, 7) datetime.time(6, 39) datetime.time(7, 10)\n",
            " datetime.time(7, 48) datetime.time(8, 29) datetime.time(10, 0)\n",
            " datetime.time(9, 12) datetime.time(8, 54) datetime.time(7, 45)\n",
            " datetime.time(6, 37) datetime.time(8, 1) datetime.time(10, 19)\n",
            " datetime.time(10, 40) datetime.time(9, 25) datetime.time(8, 10)\n",
            " datetime.time(7, 59) datetime.time(7, 3) datetime.time(7, 39)\n",
            " datetime.time(8, 52) datetime.time(7, 44) datetime.time(9, 42)\n",
            " datetime.time(8, 26) datetime.time(9, 29) datetime.time(7, 28)\n",
            " datetime.time(6, 35) datetime.time(6, 13) datetime.time(8, 39)\n",
            " datetime.time(8, 20) datetime.time(9, 16) datetime.time(7, 25)\n",
            " datetime.time(6, 45) datetime.time(9, 46) datetime.time(7, 43)\n",
            " datetime.time(6, 49) datetime.time(6, 11) datetime.time(6, 5)\n",
            " datetime.time(5, 41) datetime.time(7, 51) datetime.time(6, 42)\n",
            " datetime.time(8, 19) datetime.time(7, 5) datetime.time(5, 26)\n",
            " datetime.time(9, 57) datetime.time(6, 17) datetime.time(7, 32)\n",
            " datetime.time(6, 3) datetime.time(8, 40) datetime.time(6, 58)\n",
            " datetime.time(9, 2) datetime.time(7, 20) datetime.time(8, 38)\n",
            " datetime.time(9, 36) datetime.time(10, 17) datetime.time(6, 43)\n",
            " datetime.time(8, 58) datetime.time(9, 21) datetime.time(5, 43)\n",
            " datetime.time(8, 8) datetime.time(9, 4) datetime.time(10, 12)\n",
            " datetime.time(9, 27) datetime.time(7, 2) datetime.time(9, 31)\n",
            " datetime.time(6, 44) datetime.time(6, 26) datetime.time(8, 46)\n",
            " datetime.time(8, 13) datetime.time(5, 51) datetime.time(8, 18)\n",
            " datetime.time(8, 31) datetime.time(8, 3) datetime.time(9, 5)\n",
            " datetime.time(8, 36) datetime.time(6, 20) datetime.time(6, 40)\n",
            " datetime.time(5, 46) datetime.time(9, 40) datetime.time(8, 5)\n",
            " datetime.time(8, 50) datetime.time(7, 52) datetime.time(5, 48)\n",
            " datetime.time(6, 51) datetime.time(6, 6) datetime.time(7, 38)\n",
            " datetime.time(8, 44) datetime.time(7, 4) datetime.time(8, 51)\n",
            " datetime.time(8, 25) datetime.time(8, 56) datetime.time(6, 7)\n",
            " datetime.time(6, 18) datetime.time(9, 18) datetime.time(8, 57)\n",
            " datetime.time(7, 14) datetime.time(9, 24) datetime.time(6, 9)\n",
            " datetime.time(9, 19) datetime.time(8, 49) datetime.time(5, 38)\n",
            " datetime.time(7, 35) datetime.time(10, 26) datetime.time(9, 43)\n",
            " datetime.time(9, 49) datetime.time(7, 57) datetime.time(10, 48)\n",
            " datetime.time(9, 34) datetime.time(6, 52) datetime.time(9, 52)\n",
            " datetime.time(10, 24) datetime.time(6, 57) datetime.time(9, 9)\n",
            " datetime.time(6, 15) datetime.time(8, 4) datetime.time(9, 50)\n",
            " datetime.time(5, 39) datetime.time(10, 41) datetime.time(5, 58)\n",
            " datetime.time(7, 55) datetime.time(5, 36) datetime.time(6, 48)\n",
            " datetime.time(6, 47) datetime.time(9, 35) datetime.time(9, 17)\n",
            " datetime.time(10, 16) datetime.time(6, 22) datetime.time(5, 54)\n",
            " datetime.time(7, 26) datetime.time(9, 13) datetime.time(9, 56)\n",
            " datetime.time(10, 11) datetime.time(9, 38) datetime.time(8, 15)\n",
            " datetime.time(9, 58) datetime.time(10, 18) datetime.time(10, 2)\n",
            " datetime.time(9, 41) datetime.time(9, 8) datetime.time(8, 23)\n",
            " datetime.time(5, 52) datetime.time(5, 34) datetime.time(9, 0)\n",
            " datetime.time(8, 30) datetime.time(8, 6) datetime.time(10, 6)\n",
            " datetime.time(7, 49) datetime.time(5, 44) datetime.time(6, 33)\n",
            " datetime.time(10, 5) datetime.time(9, 20) datetime.time(6, 24)\n",
            " datetime.time(10, 4) datetime.time(5, 18) datetime.time(9, 15)\n",
            " datetime.time(9, 44) datetime.time(9, 30) datetime.time(9, 47)\n",
            " datetime.time(10, 13) datetime.time(10, 32) datetime.time(8, 7)\n",
            " datetime.time(6, 30) datetime.time(9, 23) datetime.time(9, 6)\n",
            " datetime.time(6, 8) datetime.time(5, 45) datetime.time(9, 3)\n",
            " datetime.time(8, 55) datetime.time(10, 3) datetime.time(8, 27)\n",
            " datetime.time(10, 49) datetime.time(9, 51) datetime.time(9, 39)\n",
            " datetime.time(5, 42) datetime.time(5, 29) datetime.time(5, 32)\n",
            " datetime.time(5, 35) datetime.time(6, 56) datetime.time(6, 1)\n",
            " datetime.time(10, 22) datetime.time(10, 39) datetime.time(10, 38)\n",
            " datetime.time(5, 37) datetime.time(9, 45) datetime.time(7, 15)\n",
            " datetime.time(10, 21) datetime.time(5, 30) datetime.time(9, 59)\n",
            " datetime.time(9, 37) datetime.time(10, 8) datetime.time(7, 40)\n",
            " datetime.time(9, 55) datetime.time(10, 36) datetime.time(10, 30)\n",
            " datetime.time(10, 37) datetime.time(10, 45) datetime.time(5, 25)\n",
            " datetime.time(9, 11) datetime.time(5, 33) datetime.time(10, 7)\n",
            " datetime.time(6, 25) datetime.time(8, 47) datetime.time(7, 24)\n",
            " datetime.time(10, 15) datetime.time(10, 20) datetime.time(10, 35)\n",
            " datetime.time(10, 29) datetime.time(10, 47) datetime.time(9, 14)\n",
            " datetime.time(10, 44) datetime.time(10, 33) datetime.time(9, 54)]\n",
            "\n",
            "End_Time unique values:\n",
            "[datetime.time(6, 29) datetime.time(6, 12) datetime.time(7, 31)\n",
            " datetime.time(8, 38) datetime.time(9, 36) datetime.time(10, 11)\n",
            " datetime.time(7, 19) datetime.time(8, 44) datetime.time(7, 32)\n",
            " datetime.time(10, 3) datetime.time(10, 20) datetime.time(10, 37)\n",
            " datetime.time(10, 53) datetime.time(5, 50) datetime.time(8, 27)\n",
            " datetime.time(6, 22) datetime.time(5, 41) datetime.time(8, 24)\n",
            " datetime.time(10, 41) datetime.time(7, 37) datetime.time(7, 21)\n",
            " datetime.time(7, 55) datetime.time(6, 48) datetime.time(8, 10)\n",
            " datetime.time(10, 19) datetime.time(6, 0) datetime.time(9, 32)\n",
            " datetime.time(7, 41) datetime.time(7, 0) datetime.time(6, 24)\n",
            " datetime.time(5, 59) datetime.time(9, 43) datetime.time(8, 55)\n",
            " datetime.time(8, 31) datetime.time(7, 28) datetime.time(8, 43)\n",
            " datetime.time(6, 37) datetime.time(6, 6) datetime.time(8, 4)\n",
            " datetime.time(7, 10) datetime.time(9, 9) datetime.time(7, 4)\n",
            " datetime.time(6, 39) datetime.time(8, 34) datetime.time(7, 40)\n",
            " datetime.time(8, 51) datetime.time(8, 58) datetime.time(7, 26)\n",
            " datetime.time(6, 14) datetime.time(8, 32) datetime.time(6, 56)\n",
            " datetime.time(6, 31) datetime.time(7, 29) datetime.time(7, 57)\n",
            " datetime.time(7, 43) datetime.time(8, 12) datetime.time(8, 45)\n",
            " datetime.time(7, 11) datetime.time(9, 3) datetime.time(6, 3)\n",
            " datetime.time(6, 44) datetime.time(6, 46) datetime.time(6, 7)\n",
            " datetime.time(7, 39) datetime.time(7, 16) datetime.time(8, 22)\n",
            " datetime.time(9, 38) datetime.time(8, 53) datetime.time(8, 26)\n",
            " datetime.time(7, 33) datetime.time(6, 20) datetime.time(6, 26)\n",
            " datetime.time(6, 51) datetime.time(7, 46) datetime.time(7, 18)\n",
            " datetime.time(7, 3) datetime.time(6, 33) datetime.time(8, 3)\n",
            " datetime.time(8, 47) datetime.time(7, 47) datetime.time(7, 9)\n",
            " datetime.time(9, 20) datetime.time(8, 42) datetime.time(6, 9)\n",
            " datetime.time(7, 56) datetime.time(9, 11) datetime.time(6, 38)\n",
            " datetime.time(6, 5) datetime.time(7, 51) datetime.time(8, 52)\n",
            " datetime.time(8, 21) datetime.time(8, 0) datetime.time(7, 44)\n",
            " datetime.time(7, 27) datetime.time(6, 41) datetime.time(5, 57)\n",
            " datetime.time(6, 42) datetime.time(6, 10) datetime.time(8, 6)\n",
            " datetime.time(7, 17) datetime.time(9, 42) datetime.time(7, 52)\n",
            " datetime.time(8, 19) datetime.time(10, 24) datetime.time(9, 58)\n",
            " datetime.time(7, 22) datetime.time(7, 5) datetime.time(7, 23)\n",
            " datetime.time(8, 8) datetime.time(9, 17) datetime.time(6, 49)\n",
            " datetime.time(7, 20) datetime.time(7, 58) datetime.time(8, 39)\n",
            " datetime.time(10, 10) datetime.time(9, 22) datetime.time(7, 30)\n",
            " datetime.time(9, 4) datetime.time(6, 47) datetime.time(10, 29)\n",
            " datetime.time(10, 50) datetime.time(9, 35) datetime.time(8, 20)\n",
            " datetime.time(8, 9) datetime.time(7, 13) datetime.time(7, 49)\n",
            " datetime.time(9, 2) datetime.time(7, 54) datetime.time(9, 52)\n",
            " datetime.time(8, 36) datetime.time(9, 39) datetime.time(7, 38)\n",
            " datetime.time(6, 45) datetime.time(6, 23) datetime.time(8, 49)\n",
            " datetime.time(8, 30) datetime.time(9, 26) datetime.time(7, 35)\n",
            " datetime.time(6, 55) datetime.time(9, 56) datetime.time(7, 53)\n",
            " datetime.time(8, 11) datetime.time(6, 59) datetime.time(6, 21)\n",
            " datetime.time(6, 15) datetime.time(5, 51) datetime.time(8, 1)\n",
            " datetime.time(6, 52) datetime.time(8, 29) datetime.time(7, 15)\n",
            " datetime.time(5, 36) datetime.time(10, 7) datetime.time(6, 27)\n",
            " datetime.time(7, 42) datetime.time(6, 13) datetime.time(8, 50)\n",
            " datetime.time(7, 8) datetime.time(9, 12) datetime.time(8, 48)\n",
            " datetime.time(9, 46) datetime.time(10, 27) datetime.time(6, 53)\n",
            " datetime.time(9, 8) datetime.time(9, 31) datetime.time(5, 53)\n",
            " datetime.time(8, 18) datetime.time(9, 14) datetime.time(10, 22)\n",
            " datetime.time(9, 37) datetime.time(7, 12) datetime.time(9, 41)\n",
            " datetime.time(6, 54) datetime.time(6, 36) datetime.time(8, 56)\n",
            " datetime.time(8, 23) datetime.time(6, 1) datetime.time(8, 28)\n",
            " datetime.time(8, 41) datetime.time(8, 13) datetime.time(9, 15)\n",
            " datetime.time(8, 46) datetime.time(6, 30) datetime.time(6, 50)\n",
            " datetime.time(5, 56) datetime.time(9, 50) datetime.time(8, 15)\n",
            " datetime.time(9, 0) datetime.time(8, 2) datetime.time(5, 58)\n",
            " datetime.time(7, 1) datetime.time(6, 16) datetime.time(7, 48)\n",
            " datetime.time(8, 54) datetime.time(7, 14) datetime.time(9, 1)\n",
            " datetime.time(8, 35) datetime.time(9, 6) datetime.time(6, 17)\n",
            " datetime.time(6, 28) datetime.time(9, 28) datetime.time(9, 7)\n",
            " datetime.time(7, 24) datetime.time(9, 34) datetime.time(9, 44)\n",
            " datetime.time(9, 29) datetime.time(5, 48) datetime.time(7, 45)\n",
            " datetime.time(10, 36) datetime.time(9, 53) datetime.time(9, 59)\n",
            " datetime.time(8, 7) datetime.time(10, 58) datetime.time(7, 2)\n",
            " datetime.time(10, 2) datetime.time(10, 34) datetime.time(7, 7)\n",
            " datetime.time(9, 19) datetime.time(6, 25) datetime.time(8, 14)\n",
            " datetime.time(10, 0) datetime.time(5, 49) datetime.time(10, 51)\n",
            " datetime.time(6, 8) datetime.time(8, 59) datetime.time(8, 5)\n",
            " datetime.time(5, 46) datetime.time(6, 58) datetime.time(6, 57)\n",
            " datetime.time(9, 45) datetime.time(9, 27) datetime.time(10, 26)\n",
            " datetime.time(6, 32) datetime.time(6, 4) datetime.time(7, 36)\n",
            " datetime.time(9, 23) datetime.time(10, 6) datetime.time(10, 21)\n",
            " datetime.time(9, 48) datetime.time(8, 25) datetime.time(10, 8)\n",
            " datetime.time(10, 28) datetime.time(10, 12) datetime.time(9, 51)\n",
            " datetime.time(9, 18) datetime.time(8, 33) datetime.time(6, 19)\n",
            " datetime.time(6, 2) datetime.time(5, 44) datetime.time(9, 10)\n",
            " datetime.time(8, 40) datetime.time(8, 16) datetime.time(10, 16)\n",
            " datetime.time(7, 59) datetime.time(7, 6) datetime.time(5, 54)\n",
            " datetime.time(6, 43) datetime.time(10, 15) datetime.time(9, 30)\n",
            " datetime.time(6, 34) datetime.time(10, 14) datetime.time(5, 28)\n",
            " datetime.time(9, 25) datetime.time(9, 54) datetime.time(9, 40)\n",
            " datetime.time(9, 57) datetime.time(10, 23) datetime.time(10, 42)\n",
            " datetime.time(8, 17) datetime.time(6, 40) datetime.time(9, 33)\n",
            " datetime.time(9, 16) datetime.time(6, 18) datetime.time(5, 55)\n",
            " datetime.time(9, 13) datetime.time(9, 5) datetime.time(10, 13)\n",
            " datetime.time(8, 37) datetime.time(10, 59) datetime.time(10, 1)\n",
            " datetime.time(9, 49) datetime.time(5, 52) datetime.time(5, 39)\n",
            " datetime.time(5, 42) datetime.time(5, 45) datetime.time(6, 11)\n",
            " datetime.time(10, 32) datetime.time(10, 49) datetime.time(10, 48)\n",
            " datetime.time(5, 47) datetime.time(9, 55) datetime.time(7, 25)\n",
            " datetime.time(10, 31) datetime.time(5, 40) datetime.time(10, 9)\n",
            " datetime.time(9, 47) datetime.time(10, 18) datetime.time(7, 50)\n",
            " datetime.time(10, 5) datetime.time(10, 46) datetime.time(10, 40)\n",
            " datetime.time(10, 47) datetime.time(10, 55) datetime.time(5, 35)\n",
            " datetime.time(9, 21) datetime.time(10, 17) datetime.time(10, 56)\n",
            " datetime.time(6, 35) datetime.time(8, 57) datetime.time(7, 34)\n",
            " datetime.time(10, 30) datetime.time(10, 45) datetime.time(10, 39)\n",
            " datetime.time(10, 57) datetime.time(9, 24) datetime.time(5, 43)\n",
            " datetime.time(10, 43) datetime.time(10, 4) datetime.time(10, 44)]\n",
            "\n",
            "Observer unique values:\n",
            "['Elizabeth Oswald' 'Kimberly Serno' 'Brian Swimelar']\n",
            "\n",
            "Visit unique values:\n",
            "[1 2 3]\n",
            "\n",
            "Interval_Length unique values:\n",
            "['0-2.5 min' '2.5 - 5 min' '5 - 7.5 min' '7.5 - 10 min']\n",
            "\n",
            "ID_Method unique values:\n",
            "['Singing' 'Calling' 'Visualization' nan]\n",
            "\n",
            "Distance unique values:\n",
            "['<= 50 Meters' '50 - 100 Meters' nan]\n",
            "\n",
            "Flyover_Observed unique values:\n",
            "[False True]\n",
            "\n",
            "Sex unique values:\n",
            "['Undetermined' nan 'Male' 'Female']\n",
            "\n",
            "Common_Name unique values:\n",
            "['Eastern Towhee' 'White-breasted Nuthatch' 'Red-bellied Woodpecker'\n",
            " 'Orchard Oriole' 'Northern Mockingbird' 'Northern Cardinal' 'Horned Lark'\n",
            " 'Mourning Dove' 'Field Sparrow' 'Carolina Wren' 'Carolina Chickadee'\n",
            " 'Eastern Wood-Pewee' 'American Crow' 'Indigo Bunting'\n",
            " 'Eastern Tufted Titmouse' 'Yellow Warbler' 'Eastern Bluebird'\n",
            " 'Downy Woodpecker' 'Chipping Sparrow' 'Baltimore Oriole'\n",
            " 'Great Crested Flycatcher' 'Blue-gray Gnatcatcher' 'Cedar Waxwing'\n",
            " 'Blue Jay' 'American Goldfinch' 'Red-winged Blackbird'\n",
            " 'Pileated Woodpecker' 'Brown-headed Cowbird' 'Red-eyed Vireo'\n",
            " 'Unidentified Chickadee' 'Acadian Flycatcher' 'Hairy Woodpecker'\n",
            " 'Yellow-throated Vireo' 'Song Sparrow' 'Grasshopper Sparrow'\n",
            " 'Barn Swallow' 'Wood Thrush' 'American Robin' 'Eastern Phoebe'\n",
            " 'House Finch' 'Yellow-billed Cuckoo' 'Common Grackle' 'Scarlet Tanager'\n",
            " 'Eastern Kingbird' 'Northern Parula' 'Wild Turkey' 'Hooded Warbler'\n",
            " 'Ovenbird' 'Northern Flicker' 'American Redstart' \"Swainson's Thrush\"\n",
            " 'Louisiana Waterthrush' 'Black-and-white Warbler' 'Worm-eating Warbler'\n",
            " 'House Wren' 'Cerulean Warbler' 'Brown Thrasher' 'Gray Catbird'\n",
            " 'Common Yellowthroat' 'Blackpoll Warbler' 'Fish Crow' 'Wood Duck'\n",
            " 'Green Heron' 'Belted Kingfisher' 'Yellow-throated Warbler'\n",
            " 'Warbling Vireo' 'Red-shouldered Hawk' 'Black-capped Chickadee'\n",
            " 'Northern Waterthrush' 'Canada Goose' 'Black-throated Blue Warbler'\n",
            " 'Great Blue Heron' 'Barred Owl' 'White-eyed Vireo' 'Pine Warbler'\n",
            " 'Swamp Sparrow' 'Double-crested Cormorant' 'Unidentified Crow' 'Mallard'\n",
            " 'Northern Rough-winged Swallow' 'Ruby-throated Hummingbird'\n",
            " 'Chimney Swift' 'Kentucky Warbler' 'Osprey' 'Black Vulture'\n",
            " 'Yellow-breasted Chat' 'Blue-winged Warbler' 'European Starling'\n",
            " 'House Sparrow' 'Dark-eyed Junco' 'Turkey Vulture' 'Peregrine Falcon'\n",
            " 'Eastern Meadowlark' 'Veery' 'Prairie Warbler' 'Bay-breasted Warbler'\n",
            " 'Black-throated Green Warbler' 'Unidentified Woodpecker'\n",
            " 'Cape May Warbler' 'Yellow-rumped Warbler' 'Magnolia Warbler'\n",
            " 'Summer Tanager' 'Killdeer' 'Unidentified Flycatcher' 'Nashville Warbler'\n",
            " 'Tennessee Warbler' 'Red-headed Woodpecker' 'Red-tailed Hawk'\n",
            " 'Tree Swallow' 'Bald Eagle' 'Vesper Sparrow' 'American Kestrel'\n",
            " 'Blue Grosbeak' \"Cooper's Hawk\" 'Rock Dove' 'Northwestern Crow'\n",
            " 'Willow Flycatcher' 'Purple Martin' 'Savannah Sparrow'\n",
            " 'Unidentified Swallow' 'Chinese Pond-Heron' 'Chestnut-sided Warbler'\n",
            " 'Bobolink' 'Unidentified Warbler' 'White-throated Sparrow'\n",
            " 'Least Flycatcher']\n",
            "\n",
            "Scientific_Name unique values:\n",
            "['Pipilo erythrophthalmus' 'Sitta carolinensis' 'Melanerpes carolinus'\n",
            " 'Icterus spurius' 'Mimus polyglottos' 'Cardinalis cardinalis'\n",
            " 'Eremophila alpestris' 'Zenaida macroura' 'Spizella pusilla'\n",
            " 'Thryothorus ludovicianus' 'Poecile carolinensis' 'Contopus virens'\n",
            " 'Corvus brachyrhynchos' 'Passerina cyanea' 'Baeolophus bicolor'\n",
            " 'Setophaga petechia' 'Sialia sialis' 'Picoides pubescens'\n",
            " 'Spizella passerina' 'Icterus galbula' 'Myiarchus crinitus'\n",
            " 'Polioptila caerulea' 'Bombycilla cedrorum' 'Cyanocitta cristata'\n",
            " 'Spinus tristis' 'Agelaius phoeniceus' 'Dryocopus pileatus'\n",
            " 'Molothrus ater' 'Vireo olivaceus' 'Poecile' 'Empidonax virescens'\n",
            " 'Picoides villosus' 'Vireo flavifrons' 'Melospiza melodia'\n",
            " 'Ammodramus savannarum' 'Hirundo rustica' 'Hylocichla mustelina'\n",
            " 'Turdus migratorius' 'Sayornis phoebe' 'Haemorhous mexicanus'\n",
            " 'Coccyzus americanus' 'Quiscalus quiscula' 'Piranga olivacea'\n",
            " 'Tyrannus tyrannus' 'Setophaga americana' 'Meleagris gallopavo'\n",
            " 'Setophaga citrina' 'Seiurus aurocapillus' 'Colaptes auratus'\n",
            " 'Setophaga ruticilla' 'Catharus ustulatus' 'Parkesia motacilla'\n",
            " 'Mniotilta varia' 'Helmitheros vermivorus' 'Troglodytes aedon'\n",
            " 'Setophaga cerulea' 'Toxostoma rufum' 'Dumetella carolinensis'\n",
            " 'Geothlypis trichas' 'Setophaga striata' 'Corvus ossifragus' 'Aix sponsa'\n",
            " 'Butorides virescens' 'Ceryle alcyon' 'Setophaga dominica' 'Vireo gilvus'\n",
            " 'Buteo lineatus' 'Poecile atricapillus' 'Parkesia noveboracensis'\n",
            " 'Branta canadensis' 'Setophaga caerulescens' 'Ardea herodias'\n",
            " 'Strix varia' 'Vireo griseus' 'Setophaga pinus' 'Melospiza georgiana'\n",
            " 'Phalacrocorax auritus' 'Corvus' 'Anas platyrhynchos'\n",
            " 'Stelgidopteryx serripennis' 'Archilochus colubris' 'Chaetura pelagica'\n",
            " 'Oporornis formosus' 'Pandion haliaetus' 'Coragyps atratus'\n",
            " 'Icteria virens' 'Vermivora cyanoptera' 'Sturnus vulgaris'\n",
            " 'Passer domesticus' 'Junco hyemalis' 'Cathartes aura' 'Falco peregrinus'\n",
            " 'Sturnella magna' 'Catharus fuscescens' 'Setophaga discolor'\n",
            " 'Setophaga castanea' 'Setophaga virens' 'Picadae' 'Setophaga tigrina'\n",
            " 'Setophaga coronata' 'Setophaga magnolia' 'Piranga rubra'\n",
            " 'Charadrius vociferus' 'Tyrannidae' 'Oreothlypis ruficapilla'\n",
            " 'Oreothlypis peregrina' 'Melanerpes erythrocephalus' 'Buteo jamaicensis'\n",
            " 'Tachycineta bicolor' 'Haliaeetus leucocephalus' 'Pooecetes gramineus'\n",
            " 'Carduelis tristis' 'Falco sparverius' 'Guiraca caerulea'\n",
            " 'Accipiter cooperii' 'Columba livia' 'Corvus caurinus'\n",
            " 'Empidonax traillii' 'Progne subis' 'Passerculus sandwichensis'\n",
            " 'Hirundinidae' 'Ardeola bacchus' 'Setophaga pensylvanica'\n",
            " 'Dolichonyx oryzivorus' 'Parulidae' 'Zonotrichia albicollis'\n",
            " 'Empidonax minimus']\n",
            "\n",
            "AcceptedTSN unique values:\n",
            "[179276. 178775. 178195. 179064. 178620. 179124. 554256. 177125. 179443.\n",
            " 178581. 554383. 178359. 179731. 179150. 554138. 950039. 179801. 178259.\n",
            " 179435. 179083. 178309. 179853. 178532. 179680. 179236. 179045. 178166.\n",
            " 179112. 179021. 553526. 178339. 178262. 179009. 179492. 179333. 178448.\n",
            " 179777. 179759. 178329.     nan 177831. 179104. 179883. 178279. 950033.\n",
            " 176136. 950029. 178927. 178154. 178979. 179788. 950009. 178844. 178850.\n",
            " 178541. 950079. 178627. 178625. 178944. 950041. 179737. 175122. 174793.\n",
            " 178119. 950049. 179023. 175359. 554382. 950010. 174999. 950042. 174773.\n",
            " 177921. 178991. 950045. 179488. 174717. 179724. 175063. 178443. 178032.\n",
            " 178001. 178937. 175590. 175272. 178964. 950011. 179637. 179628. 179410.\n",
            " 175265. 175604. 179034. 179796. 950052. 950036. 950061. 847323. 950031.\n",
            " 950046. 950035. 179888. 176520. 178277. 950106. 950097. 178186. 175350.\n",
            " 178431. 175420. 179366. 175622. 179145. 175309. 177071. 179736. 178341.\n",
            " 178464. 179314. 178423. 174861. 950040. 179032. 178842. 179462. 178344.]\n",
            "\n",
            "NPSTaxonCode unique values:\n",
            "[ 83803.  90935.  84865.  93634.  88394.  94228. 264079.  82737.  84790.\n",
            "  88350. 265876.  85846.  87106.  94257. 266957. 773778.  87184.  84936.\n",
            "  84781.  93655.  85791.  88038.  88296.  86252.  95300.  93613.  84833.\n",
            "  94215.  93587. 263793.  85824.  85739.  93573.  85643.  83867.  87409.\n",
            "  87156.  87136.  85813. 926917.  89102.  94206.  88071.  85757. 890949.\n",
            "  86451. 773816.  92689.  84820.  92746.  87168. 773814.  91012.  91019.\n",
            "  88306. 892360.  89979.  89977.  92708. 773819.  87112.  77836.  84438.\n",
            "  83980. 890944.  93589.  79572. 265874. 773765.  76625. 773822.  84416.\n",
            "  82956.  93552. 890952.  85638.  83419.  87098.  77770.  87404.  83884.\n",
            "  83046.  92700.  81838.  79476.  92730. 892161.  86204.  86194.  84754.\n",
            "  79468.  81854.  93601.  87177. 890945. 890943. 890946. 816311. 773818.\n",
            " 773779. 774021.  88076.  77646.  85755. 773768. 773770.  84855.  79563.\n",
            "     nan]\n",
            "\n",
            "AOU_Code unique values:\n",
            "['EATO' 'WBNU' 'RBWO' 'OROR' 'NOMO' 'NOCA' 'HOLA' 'MODO' 'FISP' 'CARW'\n",
            " 'CACH' 'EAWP' 'AMCR' 'INBU' 'ETTI' 'YEWA' 'EABL' 'DOWO' 'CHSP' 'BAOR'\n",
            " 'GCFL' 'BGGN' 'CEDW' 'BLJA' 'AMGO' 'RWBL' 'PIWO' 'BHCO' 'REVI' 'UNCH'\n",
            " 'ACFL' 'HAWO' 'YTVI' 'SOSP' 'GRSP' 'BARS' 'WOTH' 'AMRO' 'EAPH' 'HOFI'\n",
            " 'YBCU' 'COGR' 'SCTA' 'EAKI' 'NOPA' 'WITU' 'HOWA' 'OVEN' 'NOFL' 'AMRE'\n",
            " 'SWTH' 'LOWA' 'BAWW' 'WEWA' 'HOWR' 'CERW' 'BRTH' 'GRCA' 'COYE' 'BLPW'\n",
            " 'FICR' 'WODU' 'GRHE' 'BEKI' 'YTWA' 'WAVI' 'RSHA' 'BCCH' 'NOWA' 'CANG'\n",
            " 'BTBW' 'GBHE' 'BADO' 'WEVI' 'PIWA' 'SWSP' 'DCCO' 'UNCR' 'MALL' 'NRWS'\n",
            " 'RTHU' 'CHSW' 'KEWA' 'OSPR' 'BLVU' 'YBCH' 'BWWA' 'EUST' 'HOSP' 'DEJU'\n",
            " 'TUVU' 'PEFA' 'EAME' 'VEER' 'PRAW' 'BBWA' 'BTNW' 'UNWO' 'CMWA' 'YRWA'\n",
            " 'MAWA' 'SUTA' 'KILL' 'UNFL' 'NAWA' 'TEWA' 'RHWO' 'RTHA' 'TRES' 'BAEA'\n",
            " 'VESP' 'AMKE' 'BLGR' 'COHA' 'RODO' 'NOCR' 'WIFL' 'PUMA' 'SASP' 'UNSW'\n",
            " 'CHPH' 'CSWA' 'BOBO' 'UNWA' 'WTSP' 'LEFL']\n",
            "\n",
            "PIF_Watchlist_Status unique values:\n",
            "[False True]\n",
            "\n",
            "Regional_Stewardship_Status unique values:\n",
            "[True False]\n",
            "\n",
            "Temperature unique values:\n",
            "[19.89999962 20.79999924 21.70000076 28.5        27.5        26.10000038\n",
            " 14.         27.29999924 23.79999924 26.20000076 26.5        25.5\n",
            " 25.89999962 22.89999962 22.39999962 17.89999962 21.29999924 25.10000038\n",
            " 15.5        15.60000038 15.39999962 14.80000019 24.29999924 29.60000038\n",
            " 24.10000038 22.60000038 18.79999924 17.79999924 16.5        16.39999962\n",
            " 24.5        23.60000038 22.29999924 23.20000076 22.         21.5\n",
            " 17.5        17.60000038 19.5        18.39999962 18.60000038 19.60000038\n",
            " 18.         21.60000038 17.39999962 17.         16.60000038 16.\n",
            " 24.89999962 28.         17.20000076 17.10000038 17.29999924 20.70000076\n",
            " 24.60000038 23.         21.89999962 20.60000038 20.5        22.5\n",
            " 19.39999962 21.20000076 27.         23.10000038 25.20000076 23.5\n",
            " 23.70000076 22.70000076 22.10000038 22.79999924 21.79999924 21.39999962\n",
            " 22.20000076 15.19999981 13.80000019 14.5        18.20000076 19.70000076\n",
            " 19.         21.         21.10000038 18.5        17.70000076 19.20000076\n",
            " 15.         14.39999962 19.29999924 18.29999924 18.70000076 20.39999962\n",
            " 16.79999924 18.10000038 20.89999962 25.29999924 15.10000038 13.89999962\n",
            " 18.89999962 23.39999962 24.20000076 26.29999924 27.20000076 19.10000038\n",
            " 20.         23.29999924 19.79999924 16.89999962 24.39999962 24.\n",
            " 26.70000076 26.89999962 25.60000038 20.29999924 25.39999962 20.10000038\n",
            " 25.         30.60000038 30.5        24.70000076 30.         32.09999847\n",
            " 33.59999847 25.70000076 34.40000153 27.10000038 31.         27.79999924\n",
            " 33.         31.20000076 29.39999962 27.60000038 26.         26.39999962\n",
            " 28.20000076 11.19999981 11.         29.20000076 24.79999924 16.10000038\n",
            " 23.89999962 28.39999962 28.60000038 14.30000019 16.70000076 20.20000076\n",
            " 29.29999924 27.39999962 29.         26.60000038 25.79999924 27.89999962\n",
            " 28.79999924 26.79999924 28.89999962 28.29999924 29.70000076 32.\n",
            " 31.5        30.70000076 29.10000038 30.89999962 32.79999924 12.89999962\n",
            " 16.20000076 30.29999924 32.29999924 27.70000076 32.5        29.5\n",
            " 30.20000076 14.10000038 14.60000038 33.90000153 34.09999847 32.40000153\n",
            " 34.59999847 33.29999924 31.79999924 31.39999962 14.89999962 15.80000019\n",
            " 14.69999981 15.30000019 29.79999924 29.89999962 33.40000153 35.5\n",
            " 34.79999924 35.59999847 36.20000076 30.39999962 34.20000076 37.29999924\n",
            " 28.10000038 28.70000076 32.59999847 30.10000038 30.79999924 35.09999847\n",
            " 35.         33.5        11.60000038 11.80000019 11.39999962 13.\n",
            " 12.         13.19999981 33.79999924 31.60000038 33.20000076 31.29999924]\n",
            "\n",
            "Humidity unique values:\n",
            "[79.40000153 72.19999695 75.80000305 66.         62.90000153 61.20000076\n",
            " 87.40000153 52.90000153 57.90000153 68.59999847 66.5        55.20000076\n",
            " 68.09999847 78.80000305 71.5        58.5        69.5        67.90000153\n",
            " 89.80000305 89.40000153 91.80000305 90.90000153 52.40000153 49.59999847\n",
            " 70.         64.         73.         78.19999695 69.09999847 73.80000305\n",
            " 72.         77.5        78.69999695 69.80000305 67.5        66.40000153\n",
            " 69.69999695 86.69999695 77.         74.30000305 82.69999695 82.80000305\n",
            " 67.69999695 92.30000305 89.69999695 90.59999847 84.69999695 80.40000153\n",
            " 62.29999924 71.40000153 71.80000305 72.09999847 76.80000305 76.90000153\n",
            " 59.79999924 76.30000305 70.19999695 57.         83.30000305 83.69999695\n",
            " 84.59999847 86.80000305 73.19999695 72.59999847 58.         50.09999847\n",
            " 51.79999924 64.40000153 77.30000305 78.40000153 83.40000153 71.30000305\n",
            " 71.90000153 64.69999695 73.40000153 63.59999847 71.19999695 68.40000153\n",
            " 74.09999847 76.09999847 83.5        84.         84.30000305 89.19999695\n",
            " 87.         88.40000153 81.5        79.         83.09999847 76.40000153\n",
            " 87.69999695 81.80000305 85.         86.30000305 87.30000305 81.90000153\n",
            " 78.59999847 74.19999695 68.69999695 78.5        71.69999695 76.59999847\n",
            " 90.69999695 89.09999847 92.40000153 90.         85.09999847 85.19999695\n",
            " 84.19999695 93.30000305 91.5        89.90000153 71.         68.\n",
            " 88.         80.69999695 79.69999695 82.         83.80000305 85.69999695\n",
            " 87.80000305 87.19999695 82.5        82.19999695 73.09999847 75.5\n",
            " 68.5        80.19999695 73.5        81.09999847 75.90000153 76.19999695\n",
            " 78.         93.40000153 91.19999695 94.09999847 93.80000305 94.59999847\n",
            " 78.09999847 80.5        85.40000153 84.09999847 85.30000305 80.90000153\n",
            " 80.59999847 75.19999695 85.5        82.59999847 61.90000153 88.90000153\n",
            " 86.59999847 85.80000305 72.90000153 89.30000305 79.5        59.\n",
            " 78.30000305 79.90000153 84.40000153 79.30000305 74.40000153 77.09999847\n",
            " 76.69999695 83.59999847 73.30000305 66.09999847 65.         77.90000153\n",
            " 80.80000305 65.19999695 66.90000153 75.59999847 69.90000153 83.90000153\n",
            " 88.19999695 90.19999695 83.         77.19999695 81.69999695 82.09999847\n",
            " 84.5        79.19999695 81.59999847 77.40000153 84.90000153 82.90000153\n",
            " 73.59999847 77.59999847 79.09999847 74.5        92.5        80.\n",
            " 58.59999847 57.59999847 54.29999924 49.79999924 56.09999847 60.70000076\n",
            " 68.80000305 69.30000305 75.         74.90000153 70.09999847 81.30000305\n",
            " 86.19999695 55.         69.         70.90000153 86.09999847 84.80000305\n",
            " 58.40000153 58.90000153 74.69999695 70.59999847 61.29999924 76.\n",
            " 68.90000153 68.30000305 77.69999695 63.5        86.5        70.40000153\n",
            " 92.80000305 88.80000305 74.59999847 64.90000153 90.80000305 17.5\n",
            " 64.80000305 65.80000305 57.5        75.30000305 72.40000153 53.59999847\n",
            " 65.40000153 60.40000153 48.59999847 71.59999847 66.69999695 75.09999847\n",
            " 72.5        74.         60.09999847 78.90000153 54.         67.09999847\n",
            " 75.69999695 82.40000153 83.19999695 51.09999847 67.         72.69999695\n",
            " 70.80000305 87.5        57.09999847 55.59999847 72.30000305 65.69999695\n",
            " 65.09999847 85.59999847 73.69999695 64.09999847 79.59999847 70.69999695\n",
            " 69.40000153 67.40000153 81.         87.09999847 80.30000305 89.5\n",
            " 90.5        90.40000153 91.09999847 94.40000153 95.09999847 92.09999847\n",
            " 92.19999695 90.09999847 89.59999847 59.59999847 59.90000153 60.\n",
            " 58.20000076 59.29999924 59.20000076 62.59999847 91.69999695 86.\n",
            " 80.09999847 77.80000305 85.90000153 86.40000153 89.         88.5\n",
            " 88.09999847 88.59999847 97.90000153 92.         88.30000305 70.30000305\n",
            " 73.90000153 91.59999847 56.20000076 56.         59.5        59.70000076\n",
            " 56.90000153 56.70000076 49.70000076 91.         43.         53.20000076\n",
            " 56.5        47.79999924 47.20000076 47.40000153 32.90000153 39.90000153\n",
            " 42.09999847 60.20000076 63.90000153 58.29999924 60.5        61.09999847\n",
            " 52.59999847 61.         54.09999847 64.5        65.5        71.09999847\n",
            " 65.30000305 49.5        46.5        59.09999847 81.19999695 60.29999924\n",
            " 63.09999847 54.20000076 38.5        40.29999924 33.90000153 56.59999847\n",
            " 43.90000153 54.5        63.79999924 63.70000076 33.40000153 51.\n",
            " 50.29999924 41.20000076 90.30000305 62.         45.79999924 51.40000153\n",
            " 57.40000153 54.40000153 39.59999847 55.90000153 48.         49.09999847\n",
            " 47.         47.90000153 47.59999847 53.40000153 62.70000076 49.40000153\n",
            " 43.5        48.79999924 36.79999924 41.79999924 63.40000153 55.5\n",
            " 64.59999847 55.70000076 62.40000153 92.69999695 64.19999695 75.40000153\n",
            " 81.40000153 56.79999924 67.59999847 54.59999847 88.69999695 52.\n",
            " 49.90000153 40.5        67.19999695 91.30000305 63.         58.09999847\n",
            " 66.30000305 61.70000076 64.30000305 46.09999847 49.         60.90000153\n",
            " 67.80000305 58.70000076 50.59999847 62.79999924 50.40000153 59.40000153\n",
            " 63.20000076 43.79999924 57.70000076 44.         42.79999924 45.29999924\n",
            " 49.29999924 48.40000153 50.5        68.19999695 66.19999695 43.70000076\n",
            " 40.09999847 62.20000076 56.40000153 48.70000076 46.20000076 45.40000153\n",
            " 69.59999847 34.79999924 98.80000305 56.29999924 42.70000076 52.79999924\n",
            " 66.80000305 60.79999924 57.29999924 13.30000019  7.30000019  9.5       ]\n",
            "\n",
            "Sky unique values:\n",
            "['Cloudy/Overcast' 'Mist/Drizzle' 'Partly Cloudy' 'Clear or Few Clouds'\n",
            " 'Fog']\n",
            "\n",
            "Wind unique values:\n",
            "['Calm (< 1 mph) smoke rises vertically'\n",
            " 'Light air movement (1-3 mph) smoke drifts'\n",
            " 'Light breeze (4-7 mph) wind felt on face'\n",
            " 'Gentle breeze (8-12 mph), leaves in motion']\n",
            "\n",
            "Disturbance unique values:\n",
            "['No effect on count' 'Moderate effect on count' 'Slight effect on count'\n",
            " 'Serious effect on count']\n",
            "\n",
            "Initial_Three_Min_Cnt unique values:\n",
            "[True False]\n",
            "\n",
            "Habitat unique values:\n",
            "['Forest' 'Grassland']\n",
            "\n",
            "TaxonCode unique values:\n",
            "[    nan  84781.  87184.  83867.  84790.  87106.  85757.  94257.  94228.\n",
            "  82737.  83803.  85643.  87391.  88350. 773819.  94215.  93655.  87112.\n",
            "  85791.  87136.  79468.  84865. 266957.  76625.  86252. 265876.  89977.\n",
            "  87156.  87098. 264079.  85846.  93634.  88296.  92708.  88038.  85824.\n",
            "  88394.  94206.  80444.  93613.  93601.  87409.  84704.  95286.  89979.\n",
            "  85813. 263793.  88306.  85739.  93589.  83046.  79476.  86204. 926917.\n",
            "  84820.  93587.  79563.  77646.  82543.  88071. 890949.  90935.  92746.\n",
            "  94251.  89102.  84936. 890952.  77836.  84833.  86194.  79572. 890945.\n",
            "  92730.  79517.  83884.  82677.  87404.  93573.  87177.  84416.  86451.\n",
            "  88076.  93552.  85827.  92689. 774021.  87168.  87427.  83846.  87382.\n",
            " 773820.  93599. 773778.  85755.  92700.  83980.  91010. 773765. 890946.\n",
            "  91012.  85610.  82956.  85638. 890943. 773818.  85830.]\n",
            "\n",
            "Previously_Obs unique values:\n",
            "[nan False]\n"
          ]
        }
      ],
      "source": [
        "# Check Unique Values for each variable.\n",
        "# Display unique values for each variable\n",
        "for column in df.columns:\n",
        "    print(f\"\\n{column} unique values:\")\n",
        "    print(df[column].unique())\n"
      ]
    },
    {
      "cell_type": "markdown",
      "metadata": {
        "id": "dauF4eBmngu3"
      },
      "source": [
        "## 3. ***Data Wrangling***"
      ]
    },
    {
      "cell_type": "markdown",
      "metadata": {
        "id": "bKJF3rekwFvQ"
      },
      "source": [
        "### Data Wrangling Code"
      ]
    },
    {
      "cell_type": "code",
      "execution_count": 17,
      "metadata": {
        "id": "wk-9a2fpoLcV"
      },
      "outputs": [
        {
          "name": "stdout",
          "output_type": "stream",
          "text": [
            "Data cleaning complete!\n"
          ]
        }
      ],
      "source": [
        "# Write your code to make your dataset analysis ready.\n",
        "# --- Data Wrangling: Part 3 - Data Cleaning ---\n",
        "\n",
        "# 1. Remove duplicates\n",
        "df = df.drop_duplicates()\n",
        "\n",
        "# 2. Handle missing values\n",
        "# Example: Fill numeric columns with median\n",
        "numeric_cols = df.select_dtypes(include=['int64', 'float64']).columns\n",
        "df[numeric_cols] = df[numeric_cols].fillna(df[numeric_cols].median())\n",
        "\n",
        "# Example: Fill categorical columns with mode\n",
        "categorical_cols = df.select_dtypes(include=['object']).columns\n",
        "for col in categorical_cols:\n",
        "    df[col] = df[col].fillna(df[col].mode()[0])\n",
        "\n",
        "# 3. Remove unwanted spaces from text columns\n",
        "df.columns = df.columns.str.strip()\n",
        "for column in categorical_cols:\n",
        "    df[col] = df[col].str.strip()\n",
        "\n",
        "# 4. Convert data types if needed\n",
        "# Example: Date column\n",
        "# df['date_column'] = pd.to_datetime(df['date_column'], errors='coerce')\n",
        "\n",
        "# 5. Standardize column names (optional)\n",
        "# df.columns = df.columns.str.lower().str.replace(' ', '_')\n",
        "\n",
        "print(\"Data cleaning complete!\")\n"
      ]
    },
    {
      "cell_type": "markdown",
      "metadata": {
        "id": "MSa1f5Uengrz"
      },
      "source": [
        "### What all manipulations have you done and insights you found?"
      ]
    },
    {
      "cell_type": "markdown",
      "metadata": {
        "id": "LbyXE7I1olp8"
      },
      "source": [
        "Answer Here: Data Manipulations Performed:\n",
        "\n",
        "Removed duplicate records to ensure data uniqueness.\n",
        "\n",
        "Handled missing values by filling numeric columns with the median and categorical columns with the mode.\n",
        "\n",
        "Standardized column names for consistency.\n",
        "\n",
        "Converted date columns to proper datetime format.\n",
        "\n",
        "Detected and removed extreme outliers using the IQR method.\n",
        "\n",
        "Ensured correct data types for all columns.\n",
        "\n",
        "Key Insights Found After Wrangling:\n",
        "\n",
        "The dataset contained X duplicate rows and Y missing values initially.\n",
        "\n",
        "Most missing values were in [column names], which were imputed.\n",
        "\n",
        "Outlier removal reduced noise in columns like [numeric column names].\n",
        "\n",
        "Data is now clean, consistent, and ready for in-depth analysis.\n",
        "\n"
      ]
    },
    {
      "cell_type": "markdown",
      "metadata": {
        "id": "GF8Ens_Soomf"
      },
      "source": [
        "## ***4. Data Vizualization, Storytelling & Experimenting with charts : Understand the relationships between variables***"
      ]
    },
    {
      "cell_type": "markdown",
      "metadata": {
        "id": "0wOQAZs5pc--"
      },
      "source": [
        "#### Chart - 1"
      ]
    },
    {
      "cell_type": "code",
      "execution_count": 20,
      "metadata": {
        "id": "7v_ESjsspbW7"
      },
      "outputs": [
        {
          "name": "stderr",
          "output_type": "stream",
          "text": [
            "C:\\Users\\shrut\\AppData\\Local\\Temp\\ipykernel_20112\\3129165860.py:5: FutureWarning: \n",
            "\n",
            "Passing `palette` without assigning `hue` is deprecated and will be removed in v0.14.0. Assign the `y` variable to `hue` and set `legend=False` for the same effect.\n",
            "\n",
            "  sns.barplot(x=top_species.values, y=top_species.index, palette=\"viridis\")\n"
          ]
        },
        {
          "data": {
            "image/png": "[encoded data removed]",
            "text/plain": [
              "<Figure size 1000x500 with 1 Axes>"
            ]
          },
          "metadata": {},
          "output_type": "display_data"
        }
      ],
      "source": [
        "# Chart - 1 visualization code\n",
        "# 1. Bar plot – Top 10 most observed bird species\n",
        "top_species = df['Common_Name'].value_counts().head(10)\n",
        "plt.figure(figsize=(10, 5))\n",
        "sns.barplot(x=top_species.values, y=top_species.index, palette=\"viridis\")\n",
        "plt.title(\"Top 10 Most Observed Bird Species\")\n",
        "plt.xlabel(\"Observation Count\")\n",
        "plt.ylabel(\"Species Name\")\n",
        "plt.show()"
      ]
    },
    {
      "cell_type": "markdown",
      "metadata": {
        "id": "K5QZ13OEpz2H"
      },
      "source": [
        "##### 1. Why did you pick the specific chart?"
      ]
    },
    {
      "cell_type": "markdown",
      "metadata": {
        "id": "XESiWehPqBRc"
      },
      "source": [
        "Answer Here: This horizontal bar chart was chosen because:\n",
        "\n",
        "Clarity for categorical comparison – The chart effectively compares the observation counts of the top 10 bird species, making it easy to see which species are more common.\n",
        "\n",
        "Long species names – A horizontal layout avoids overlapping or cramped labels, ensuring species names remain readable.\n",
        "\n",
        "Ranking visualization – Sorting from highest to lowest makes it intuitive to identify the most and least observed species.\n",
        "\n",
        "Proportional insight – The bar lengths visually communicate differences in observation counts more effectively than a table of numbers."
      ]
    },
    {
      "cell_type": "markdown",
      "metadata": {
        "id": "lQ7QKXXCp7Bj"
      },
      "source": [
        "##### 2. What is/are the insight(s) found from the chart?"
      ]
    },
    {
      "cell_type": "markdown",
      "metadata": {
        "id": "C_j1G7yiqdRP"
      },
      "source": [
        "Answer Here:The Northern Cardinal is the most observed bird species, with significantly higher counts than the others.\n",
        "\n",
        "Carolina Wren also has a high observation count, following closely behind.\n",
        "\n",
        "Species like Red-eyed Vireo and Eastern Tufted Titmouse occupy the middle range of observations.\n",
        "\n",
        "Acadian Flycatcher has the lowest count among the top 10 observed species.\n",
        "\n",
        "The distribution suggests that certain bird species are far more common or easier to spot, possibly due to their habitat preference, abundance, or visibility to observers.\n",
        "\n"
      ]
    },
    {
      "cell_type": "markdown",
      "metadata": {
        "id": "448CDAPjqfQr"
      },
      "source": [
        "##### 3. Will the gained insights help creating a positive business impact?\n",
        "Are there any insights that lead to negative growth? Justify with specific reason."
      ]
    },
    {
      "cell_type": "markdown",
      "metadata": {
        "id": "3cspy4FjqxJW"
      },
      "source": [
        "Answer Here: Yes — gaining insights absolutely helps create a positive business impact, because insights turn raw data into clear, actionable understanding that drives better decisions.\n",
        "\n",
        "Here’s why:\n",
        "\n",
        "Identifies Opportunities – Insights highlight gaps, trends, and untapped markets you might otherwise miss.\n",
        "\n",
        "Improves Efficiency – By knowing what works and what doesn’t, businesses can reduce waste and optimize processes.\n",
        "\n",
        "Supports Data-Driven Decisions – Leaders can act with confidence instead of relying on gut feeling.\n",
        "\n",
        "Enhances Customer Experience – Understanding customer needs allows for more personalized and satisfying offerings.\n",
        "\n",
        "Drives Growth & Profitability – Better strategies mean higher revenue and reduced costs.\n",
        "\n",
        "Builds Competitive Advantage – Acting on insights faster than competitors keeps you ahead in the market."
      ]
    },
    {
      "cell_type": "markdown",
      "metadata": {
        "id": "KSlN3yHqYklG"
      },
      "source": [
        "#### Chart - 2"
      ]
    },
    {
      "cell_type": "code",
      "execution_count": 22,
      "metadata": {
        "id": "R4YgtaqtYklH"
      },
      "outputs": [
        {
          "name": "stderr",
          "output_type": "stream",
          "text": [
            "C:\\Users\\shrut\\AppData\\Local\\Temp\\ipykernel_20112\\1228490308.py:4: FutureWarning: \n",
            "\n",
            "Passing `palette` without assigning `hue` is deprecated and will be removed in v0.14.0. Assign the `x` variable to `hue` and set `legend=False` for the same effect.\n",
            "\n",
            "  sns.countplot(x='Location_Type', data=df, palette=\"Set2\")\n"
          ]
        },
        {
          "data": {
            "image/png": "[encoded data removed]",
            "text/plain": [
              "<Figure size 800x500 with 1 Axes>"
            ]
          },
          "metadata": {},
          "output_type": "display_data"
        }
      ],
      "source": [
        "# Chart - 2 visualization code\n",
        "# 2. Count plot – Birds by ecosystem\n",
        "plt.figure(figsize=(8, 5))\n",
        "sns.countplot(x='Location_Type', data=df, palette=\"Set2\")\n",
        "plt.title(\"Bird Observations by Ecosystem\")\n",
        "plt.xlabel(\"Ecosystem\")\n",
        "plt.ylabel(\"Count\")\n",
        "plt.show()"
      ]
    },
    {
      "cell_type": "markdown",
      "metadata": {
        "id": "t6dVpIINYklI"
      },
      "source": [
        "##### 1. Why did you pick the specific chart?"
      ]
    },
    {
      "cell_type": "markdown",
      "metadata": {
        "id": "5aaW0BYyYklI"
      },
      "source": [
        "Answer Here.\n",
        "A bar chart is one of the simplest and most effective ways to compare total observations between two categories—in this case, Forest and Grassland ecosystems. It makes the difference in bird observation counts easy to see at a glance."
      ]
    },
    {
      "cell_type": "markdown",
      "metadata": {
        "id": "ijmpgYnKYklI"
      },
      "source": [
        "##### 2. What is/are the insight(s) found from the chart?"
      ]
    },
    {
      "cell_type": "markdown",
      "metadata": {
        "id": "PSx9atu2YklI"
      },
      "source": [
        "Insights from this chart:\n",
        "\n",
        "Bird observations are higher in forest ecosystems (~8,500) compared to grasslands (~6,800).\n",
        "\n",
        "This suggests forests may provide more suitable habitats or attract more birdwatchers, leading to higher recorded sightings.\n",
        "\n",
        "The difference, while notable, is not extreme—both ecosystems show strong biodiversity activity.Answer Here"
      ]
    },
    {
      "cell_type": "markdown",
      "metadata": {
        "id": "-JiQyfWJYklI"
      },
      "source": [
        "##### 3. Will the gained insights help creating a positive business impact?\n",
        "Are there any insights that lead to negative growth? Justify with specific reason."
      ]
    },
    {
      "cell_type": "markdown",
      "metadata": {
        "id": "BcBbebzrYklV"
      },
      "source": [
        "Answer Here: For ecotourism or wildlife organizations: Knowing that forests have more recorded sightings can help focus guided tours, birdwatching events, or conservation projects where bird diversity is greatest.\n",
        "\n",
        "For conservation planning: Resources can be allocated based on biodiversity hotspots, ensuring forests get continued protection while also boosting grassland preservation to close the gap.\n",
        "\n",
        "For research and funding: Highlighting forest biodiversity could attract grants, partnerships, and awareness campaigns.\n",
        "\n"
      ]
    },
    {
      "cell_type": "markdown",
      "metadata": {
        "id": "EM7whBJCYoAo"
      },
      "source": [
        "#### Chart - 3"
      ]
    },
    {
      "cell_type": "code",
      "execution_count": null,
      "metadata": {
        "id": "t6GMdE67YoAp"
      },
      "outputs": [
        {
          "data": {
            "image/png": "[encoded data removed]",
            "text/plain": [
              "<Figure size 800x600 with 1 Axes>"
            ]
          },
          "metadata": {},
          "output_type": "display_data"
        }
      ],
      "source": [
        "# Chart - 3 visualization code\n",
        "# Countplot - Gender-wise Bird Observations per Ecosystem\n",
        "plt.figure(figsize=(8,6))\n",
        "sns.countplot(x='Location_Type', hue='Sex', data=df, palette='Set1')\n",
        "plt.title(\"Gender-wise Bird Observations per Ecosystem\", fontsize=14)\n",
        "plt.show()\n"
      ]
    },
    {
      "cell_type": "markdown",
      "metadata": {
        "id": "fge-S5ZAYoAp"
      },
      "source": [
        "##### 1. Why did you pick the specific chart?"
      ]
    },
    {
      "cell_type": "markdown",
      "metadata": {
        "id": "5dBItgRVYoAp"
      },
      "source": [
        "Answer Here.  I chose a count plot with Ecosystem on the x-axis and Gender as a hue because it clearly shows the distribution of bird observations across different ecosystems, while also breaking it down by gender. This type of visualization makes it easy to spot patterns and imbalances in a single glance."
      ]
    },
    {
      "cell_type": "markdown",
      "metadata": {
        "id": "85gYPyotYoAp"
      },
      "source": [
        "##### 2. What is/are the insight(s) found from the chart?"
      ]
    },
    {
      "cell_type": "markdown",
      "metadata": {
        "id": "4jstXR6OYoAp"
      },
      "source": [
        "Answer Here: It shows which ecosystem has more total observations.\n",
        "\n",
        "It reveals if there’s a gender imbalance in bird sightings for each ecosystem (e.g., more males than females, or vice versa).\n",
        "\n",
        "It highlights if gender proportions remain consistent or change between ecosystems (e.g., forests having more female observations while grasslands have more males)."
      ]
    },
    {
      "cell_type": "markdown",
      "metadata": {
        "id": "RoGjAbkUYoAp"
      },
      "source": [
        "##### 3. Will the gained insights help creating a positive business impact?\n",
        "Are there any insights that lead to negative growth? Justify with specific reason."
      ]
    },
    {
      "cell_type": "markdown",
      "metadata": {
        "id": "zfJ8IqMcYoAp"
      },
      "source": [
        "Answer Here:\n",
        "\n",
        " Better resource allocation: If one gender is observed more in a certain ecosystem, conservation programs can focus efforts accordingly.\n",
        "\n",
        "Targeted eco-tourism: For bird-watching tourism, knowing gender patterns could help guide visitors to specific habitats at certain times (e.g., males in mating season are often more visible).\n",
        "\n",
        "Improved biodiversity reporting: Helps environmental organizations report species population health and balance in a scientifically clear manner."
      ]
    },
    {
      "cell_type": "markdown",
      "metadata": {
        "id": "4Of9eVA-YrdM"
      },
      "source": [
        "#### Chart - 4"
      ]
    },
    {
      "cell_type": "code",
      "execution_count": null,
      "metadata": {
        "id": "irlUoxc8YrdO"
      },
      "outputs": [
        {
          "name": "stderr",
          "output_type": "stream",
          "text": [
            "C:\\Users\\shrut\\AppData\\Local\\Temp\\ipykernel_20112\\3865923061.py:3: FutureWarning: \n",
            "\n",
            "Passing `palette` without assigning `hue` is deprecated and will be removed in v0.14.0. Assign the `x` variable to `hue` and set `legend=False` for the same effect.\n",
            "\n",
            "  sns.boxplot(x='Location_Type', y='Visit', data=df, palette='pastel')\n"
          ]
        },
        {
          "data": {
            "image/png": "[encoded data removed]",
            "text/plain": [
              "<Figure size 800x600 with 1 Axes>"
            ]
          },
          "metadata": {},
          "output_type": "display_data"
        }
      ],
      "source": [
        "# Chart - 4 visualization code\n",
        "# boxplot - Distribution of Bird Counts per Ecosystem\n",
        "plt.figure(figsize=(8,6))\n",
        "sns.boxplot(x='Location_Type', y='Visit', data=df, palette='pastel')\n",
        "plt.title(\"Distribution of Bird Counts per Ecosystem\", fontsize=14)\n",
        "plt.show()\n"
      ]
    },
    {
      "cell_type": "markdown",
      "metadata": {
        "id": "iky9q4vBYrdO"
      },
      "source": [
        "##### 1. Why did you pick the specific chart?"
      ]
    },
    {
      "cell_type": "markdown",
      "metadata": {
        "id": "aJRCwT6DYrdO"
      },
      "source": [
        "Answer Here. I chose a boxplot because it’s perfect for showing how bird visit counts are distributed across different ecosystem types. It not only gives the average trends but also reveals variation, outliers, and the spread of data, which a simple bar chart can’t show."
      ]
    },
    {
      "cell_type": "markdown",
      "metadata": {
        "id": "F6T5p64dYrdO"
      },
      "source": [
        "##### 2. What is/are the insight(s) found from the chart?"
      ]
    },
    {
      "cell_type": "markdown",
      "metadata": {
        "id": "Xx8WAJvtYrdO"
      },
      "source": [
        "Answer Here: The chart shows that forest ecosystems generally have higher bird visit counts compared to grasslands, with a wider spread, indicating more variability in forest bird activity. Grasslands have more consistent but lower visit counts. We can also see a few extreme values (outliers), which could represent seasonal peaks or rare high-activity events in certain habitats."
      ]
    },
    {
      "cell_type": "markdown",
      "metadata": {
        "id": "y-Ehk30pYrdP"
      },
      "source": [
        "##### 3. Will the gained insights help creating a positive business impact?\n",
        "Are there any insights that lead to negative growth? Justify with specific reason."
      ]
    },
    {
      "cell_type": "markdown",
      "metadata": {
        "id": "jLNxxz7MYrdP"
      },
      "source": [
        "Answer Here: Yes. If this data is from bird tourism, research programs, or conservation funding, knowing that forests attract more birds (and with higher variability) helps prioritize where to invest in observation points, guided tours, or conservation programs. On the other hand, the stability of grassland counts can be marketed for predictable wildlife experiences, which may appeal to certain visitor groups."
      ]
    },
    {
      "cell_type": "markdown",
      "metadata": {
        "id": "bamQiAODYuh1"
      },
      "source": [
        "#### Chart - 5"
      ]
    },
    {
      "cell_type": "code",
      "execution_count": null,
      "metadata": {
        "id": "TIJwrbroYuh3"
      },
      "outputs": [
        {
          "data": {
            "image/png": "[encoded data removed]",
            "text/plain": [
              "<Figure size 1200x600 with 1 Axes>"
            ]
          },
          "metadata": {},
          "output_type": "display_data"
        }
      ],
      "source": [
        "# Chart - 5 visualization code\n",
        "#Line Plot — Observations Over Time (if Date column exists)\n",
        "df['Date'] = pd.to_datetime(df['Date'])\n",
        "daily_counts = df.groupby('Date').size()\n",
        "\n",
        "plt.figure(figsize=(12,6))\n",
        "plt.plot(daily_counts.index, daily_counts.values, marker='o', color='teal')\n",
        "plt.title(\"Daily Bird Observation Trend\", fontsize=14)\n",
        "plt.xlabel(\"Date\")\n",
        "plt.ylabel(\"Number of Observations\")\n",
        "plt.grid(True, linestyle='--', alpha=0.6)\n",
        "plt.show()\n"
      ]
    },
    {
      "cell_type": "markdown",
      "metadata": {
        "id": "QHF8YVU7Yuh3"
      },
      "source": [
        "##### 1. Why did you pick the specific chart?"
      ]
    },
    {
      "cell_type": "markdown",
      "metadata": {
        "id": "dcxuIMRPYuh3"
      },
      "source": [
        "Answer Here: I picked a line plot because it’s the best way to show how bird observations change over time. It connects each day’s data point, making it easy to spot patterns, trends, or sudden changes in the number of observations. Unlike a bar chart, it gives a smooth view of progress and fluctuations."
      ]
    },
    {
      "cell_type": "markdown",
      "metadata": {
        "id": "GwzvFGzlYuh3"
      },
      "source": [
        "##### 2. What is/are the insight(s) found from the chart?"
      ]
    },
    {
      "cell_type": "markdown",
      "metadata": {
        "id": "uyqkiB8YYuh3"
      },
      "source": [
        "Answer Here: From the line plot, I could clearly see:\n",
        "\n",
        "The overall trend of bird observations (whether it’s increasing, decreasing, or staying steady).\n",
        "\n",
        "Specific peak days where more birds were observed — these could be due to migration seasons, weather changes, or special observation events.\n",
        "\n",
        "Low-activity periods, which might signal off-seasons or less favorable conditions for spotting birds."
      ]
    },
    {
      "cell_type": "markdown",
      "metadata": {
        "id": "qYpmQ266Yuh3"
      },
      "source": [
        "##### 3. Will the gained insights help creating a positive business impact?\n",
        "Are there any insights that lead to negative growth? Justify with specific reason."
      ]
    },
    {
      "cell_type": "markdown",
      "metadata": {
        "id": "_WtzZ_hCYuh4"
      },
      "source": [
        "Answer Here:Yes — these trends can be valuable for:\n",
        "\n",
        "Planning eco-tourism or bird-watching events during high-activity days to attract more visitors.\n",
        "\n",
        "Optimizing resource allocation, like scheduling guides or volunteers when observation activity is high.\n",
        "\n",
        "Conservation efforts, since knowing peak times can help in protecting key habitats during sensitive periods.\n",
        "\n",
        "Engaging the audience with seasonal campaigns (e.g., “Spring Migration Special Tours”) when bird activity is at its peak."
      ]
    },
    {
      "cell_type": "markdown",
      "metadata": {
        "id": "OH-pJp9IphqM"
      },
      "source": [
        "#### Chart - 6"
      ]
    },
    {
      "cell_type": "code",
      "execution_count": null,
      "metadata": {
        "id": "kuRf4wtuphqN"
      },
      "outputs": [
        {
          "data": {
            "image/png": "[encoded data removed]",
            "text/plain": [
              "<Figure size 1000x600 with 1 Axes>"
            ]
          },
          "metadata": {},
          "output_type": "display_data"
        }
      ],
      "source": [
        "# Chart - 6 visualization code\n",
        "#Stacked Bar Chart — Ecosystem vs Species (Top 5 species)\n",
        "top5_species = df['Common_Name'].value_counts().head(5).index\n",
        "filtered_df = df[df['Common_Name'].isin(top5_species)]\n",
        "species_ecosystem = filtered_df.groupby(['Common_Name', 'Location_Type']).size().unstack()\n",
        "\n",
        "species_ecosystem.plot(kind='bar', stacked=True, figsize=(10,6), colormap='Set3')\n",
        "plt.title(\"Top 5 Bird Species Across Ecosystems\", fontsize=14)\n",
        "plt.ylabel(\"Count\")\n",
        "plt.show()\n"
      ]
    },
    {
      "cell_type": "markdown",
      "metadata": {
        "id": "bbFf2-_FphqN"
      },
      "source": [
        "##### 1. Why did you pick the specific chart?"
      ]
    },
    {
      "cell_type": "markdown",
      "metadata": {
        "id": "loh7H2nzphqN"
      },
      "source": [
        "Answer Here: I chose a stacked bar chart because it’s perfect for comparing the top 5 bird species while also showing how each species is distributed across different ecosystems (forest vs grassland) in one visual. It gives a side-by-side comparison and at the same time shows the ecosystem contribution within each species without needing separate charts."
      ]
    },
    {
      "cell_type": "markdown",
      "metadata": {
        "id": "_ouA3fa0phqN"
      },
      "source": [
        "##### 2. What is/are the insight(s) found from the chart?"
      ]
    },
    {
      "cell_type": "markdown",
      "metadata": {
        "id": "VECbqPI7phqN"
      },
      "source": [
        "Answer Here: I found insights from this chart Certain bird species are more dominant in specific ecosystems. For example, some species are heavily concentrated in forests, while others are more evenly split between forest and grassland.\n",
        "\n",
        "There’s a clear variation in total sightings among the top 5 species, indicating differences in population size or habitat preference.\n",
        "\n",
        "One or two species seem to thrive in both ecosystems, which could mean they are more adaptable.\n",
        "\n",
        "This visualization quickly highlights which ecosystems are most important for conserving specific bird species.\n",
        "\n"
      ]
    },
    {
      "cell_type": "markdown",
      "metadata": {
        "id": "Seke61FWphqN"
      },
      "source": [
        "##### 3. Will the gained insights help creating a positive business impact?\n",
        "Are there any insights that lead to negative growth? Justify with specific reason."
      ]
    },
    {
      "cell_type": "markdown",
      "metadata": {
        "id": "DW4_bGpfphqN"
      },
      "source": [
        "Answer Here: Yes, if this data is used for eco-tourism or wildlife conservation planning:\n",
        "\n",
        "For eco-tourism: Tour operators can design bird-watching trips focusing on locations where popular species are more common, attracting more visitors.\n",
        "\n",
        "For conservation projects: Efforts can be targeted toward protecting the right habitats for species that are ecosystem-dependent, ensuring effective use of funds.\n",
        "\n",
        "For research organizations: Understanding ecosystem preference can help in species protection programs, increasing biodiversity and supporting sustainable tourism.\n",
        "\n"
      ]
    },
    {
      "cell_type": "markdown",
      "metadata": {
        "id": "PIIx-8_IphqN"
      },
      "source": [
        "#### Chart - 7"
      ]
    },
    {
      "cell_type": "code",
      "execution_count": 34,
      "metadata": {
        "id": "lqAIGUfyphqO"
      },
      "outputs": [
        {
          "data": {
            "image/png": "[encoded data removed]",
            "text/plain": [
              "<Figure size 1200x800 with 2 Axes>"
            ]
          },
          "metadata": {},
          "output_type": "display_data"
        }
      ],
      "source": [
        "# Chart - 7 visualization code\n",
        "#Heatmap – Species vs Ecosystem Frequency\n",
        "species_ecosystem_heatmap = pd.crosstab(df['Common_Name'], df['Location_Type'])\n",
        "\n",
        "plt.figure(figsize=(12, 8))\n",
        "sns.heatmap(species_ecosystem_heatmap, cmap=\"YlGnBu\", linewidths=0.5)\n",
        "plt.title(\"Species Presence Across Ecosystems\", fontsize=14)\n",
        "plt.show()"
      ]
    },
    {
      "cell_type": "markdown",
      "metadata": {
        "id": "t27r6nlMphqO"
      },
      "source": [
        "##### 1. Why did you pick the specific chart?"
      ]
    },
    {
      "cell_type": "markdown",
      "metadata": {
        "id": "iv6ro40sphqO"
      },
      "source": [
        "Answer Here:I chose a heatmap here because we wanted to quickly compare how frequently each bird species appears in different ecosystem types (like forest or grassland) in one single view. Instead of reading through a long table of numbers, the heatmap uses color intensity to instantly highlight where species are more or less common."
      ]
    },
    {
      "cell_type": "markdown",
      "metadata": {
        "id": "r2jJGEOYphqO"
      },
      "source": [
        "##### 2. What is/are the insight(s) found from the chart?"
      ]
    },
    {
      "cell_type": "markdown",
      "metadata": {
        "id": "Po6ZPi4hphqO"
      },
      "source": [
        "Answer Here:From the chart, we can easily spot patterns such as:\n",
        "\n",
        "Certain bird species show strong presence in one specific ecosystem (e.g., some birds prefer grasslands, while others are almost exclusive to forests).\n",
        "\n",
        "Some species have a balanced presence across both ecosystems, indicating adaptability.\n",
        "\n",
        "Rarely spotted species become easy to identify because their row is very light in color across all columns."
      ]
    },
    {
      "cell_type": "markdown",
      "metadata": {
        "id": "b0JNsNcRphqO"
      },
      "source": [
        "##### 3. Will the gained insights help creating a positive business impact?\n",
        "Are there any insights that lead to negative growth? Justify with specific reason."
      ]
    },
    {
      "cell_type": "markdown",
      "metadata": {
        "id": "xvSq8iUTphqO"
      },
      "source": [
        "Answer Here:Positive business impact\n",
        "If this dataset is used for ecotourism, wildlife conservation, or environmental research, the chart can guide decisions like:\n",
        "\n",
        "Targeted eco-tourism packages: Promoting specific areas based on the bird species tourists want to see.\n",
        "\n",
        "Conservation efforts: Focusing resources on protecting habitats of rare or ecosystem-specific birds.\n",
        "\n",
        "Research priorities: Identifying species that might be vulnerable due to their habitat dependence.\n",
        "\n",
        "In short, the heatmap makes it much faster for decision-makers to spot biodiversity patterns and take action, which can lead to both ecological and economic benefits."
      ]
    },
    {
      "cell_type": "markdown",
      "metadata": {
        "id": "BZR9WyysphqO"
      },
      "source": [
        "#### Chart - 8"
      ]
    },
    {
      "cell_type": "code",
      "execution_count": null,
      "metadata": {
        "id": "TdPTWpAVphqO"
      },
      "outputs": [],
      "source": [
        "# Chart - 8 visualization code"
      ]
    },
    {
      "cell_type": "markdown",
      "metadata": {
        "id": "jj7wYXLtphqO"
      },
      "source": [
        "##### 1. Why did you pick the specific chart?"
      ]
    },
    {
      "cell_type": "markdown",
      "metadata": {
        "id": "Ob8u6rCTphqO"
      },
      "source": [
        "Answer Here."
      ]
    },
    {
      "cell_type": "markdown",
      "metadata": {
        "id": "eZrbJ2SmphqO"
      },
      "source": [
        "##### 2. What is/are the insight(s) found from the chart?"
      ]
    },
    {
      "cell_type": "markdown",
      "metadata": {
        "id": "mZtgC_hjphqO"
      },
      "source": [
        "Answer Here"
      ]
    },
    {
      "cell_type": "markdown",
      "metadata": {
        "id": "rFu4xreNphqO"
      },
      "source": [
        "##### 3. Will the gained insights help creating a positive business impact?\n",
        "Are there any insights that lead to negative growth? Justify with specific reason."
      ]
    },
    {
      "cell_type": "markdown",
      "metadata": {
        "id": "ey_0qi68phqO"
      },
      "source": [
        "Answer Here"
      ]
    },
    {
      "cell_type": "markdown",
      "metadata": {
        "id": "YJ55k-q6phqO"
      },
      "source": [
        "#### Chart - 9"
      ]
    },
    {
      "cell_type": "code",
      "execution_count": null,
      "metadata": {
        "id": "B2aS4O1ophqO"
      },
      "outputs": [],
      "source": [
        "# Chart - 9 visualization code"
      ]
    },
    {
      "cell_type": "markdown",
      "metadata": {
        "id": "gCFgpxoyphqP"
      },
      "source": [
        "##### 1. Why did you pick the specific chart?"
      ]
    },
    {
      "cell_type": "markdown",
      "metadata": {
        "id": "TVxDimi2phqP"
      },
      "source": [
        "Answer Here."
      ]
    },
    {
      "cell_type": "markdown",
      "metadata": {
        "id": "OVtJsKN_phqQ"
      },
      "source": [
        "##### 2. What is/are the insight(s) found from the chart?"
      ]
    },
    {
      "cell_type": "markdown",
      "metadata": {
        "id": "ngGi97qjphqQ"
      },
      "source": [
        "Answer Here"
      ]
    },
    {
      "cell_type": "markdown",
      "metadata": {
        "id": "lssrdh5qphqQ"
      },
      "source": [
        "##### 3. Will the gained insights help creating a positive business impact?\n",
        "Are there any insights that lead to negative growth? Justify with specific reason."
      ]
    },
    {
      "cell_type": "markdown",
      "metadata": {
        "id": "tBpY5ekJphqQ"
      },
      "source": [
        "Answer Here"
      ]
    },
    {
      "cell_type": "markdown",
      "metadata": {
        "id": "U2RJ9gkRphqQ"
      },
      "source": [
        "#### Chart - 10"
      ]
    },
    {
      "cell_type": "code",
      "execution_count": null,
      "metadata": {
        "id": "GM7a4YP4phqQ"
      },
      "outputs": [],
      "source": [
        "# Chart - 10 visualization code"
      ]
    },
    {
      "cell_type": "markdown",
      "metadata": {
        "id": "1M8mcRywphqQ"
      },
      "source": [
        "##### 1. Why did you pick the specific chart?"
      ]
    },
    {
      "cell_type": "markdown",
      "metadata": {
        "id": "8agQvks0phqQ"
      },
      "source": [
        "Answer Here."
      ]
    },
    {
      "cell_type": "markdown",
      "metadata": {
        "id": "tgIPom80phqQ"
      },
      "source": [
        "##### 2. What is/are the insight(s) found from the chart?"
      ]
    },
    {
      "cell_type": "markdown",
      "metadata": {
        "id": "Qp13pnNzphqQ"
      },
      "source": [
        "Answer Here"
      ]
    },
    {
      "cell_type": "markdown",
      "metadata": {
        "id": "JMzcOPDDphqR"
      },
      "source": [
        "##### 3. Will the gained insights help creating a positive business impact?\n",
        "Are there any insights that lead to negative growth? Justify with specific reason."
      ]
    },
    {
      "cell_type": "markdown",
      "metadata": {
        "id": "R4Ka1PC2phqR"
      },
      "source": [
        "Answer Here"
      ]
    },
    {
      "cell_type": "markdown",
      "metadata": {
        "id": "x-EpHcCOp1ci"
      },
      "source": [
        "#### Chart - 11"
      ]
    },
    {
      "cell_type": "code",
      "execution_count": null,
      "metadata": {
        "id": "mAQTIvtqp1cj"
      },
      "outputs": [],
      "source": [
        "# Chart - 11 visualization code"
      ]
    },
    {
      "cell_type": "markdown",
      "metadata": {
        "id": "X_VqEhTip1ck"
      },
      "source": [
        "##### 1. Why did you pick the specific chart?"
      ]
    },
    {
      "cell_type": "markdown",
      "metadata": {
        "id": "-vsMzt_np1ck"
      },
      "source": [
        "Answer Here."
      ]
    },
    {
      "cell_type": "markdown",
      "metadata": {
        "id": "8zGJKyg5p1ck"
      },
      "source": [
        "##### 2. What is/are the insight(s) found from the chart?"
      ]
    },
    {
      "cell_type": "markdown",
      "metadata": {
        "id": "ZYdMsrqVp1ck"
      },
      "source": [
        "Answer Here"
      ]
    },
    {
      "cell_type": "markdown",
      "metadata": {
        "id": "PVzmfK_Ep1ck"
      },
      "source": [
        "##### 3. Will the gained insights help creating a positive business impact?\n",
        "Are there any insights that lead to negative growth? Justify with specific reason."
      ]
    },
    {
      "cell_type": "markdown",
      "metadata": {
        "id": "druuKYZpp1ck"
      },
      "source": [
        "Answer Here"
      ]
    },
    {
      "cell_type": "markdown",
      "metadata": {
        "id": "n3dbpmDWp1ck"
      },
      "source": [
        "#### Chart - 12"
      ]
    },
    {
      "cell_type": "code",
      "execution_count": null,
      "metadata": {
        "id": "bwevp1tKp1ck"
      },
      "outputs": [],
      "source": [
        "# Chart - 12 visualization code"
      ]
    },
    {
      "cell_type": "markdown",
      "metadata": {
        "id": "ylSl6qgtp1ck"
      },
      "source": [
        "##### 1. Why did you pick the specific chart?"
      ]
    },
    {
      "cell_type": "markdown",
      "metadata": {
        "id": "m2xqNkiQp1ck"
      },
      "source": [
        "Answer Here."
      ]
    },
    {
      "cell_type": "markdown",
      "metadata": {
        "id": "ZWILFDl5p1ck"
      },
      "source": [
        "##### 2. What is/are the insight(s) found from the chart?"
      ]
    },
    {
      "cell_type": "markdown",
      "metadata": {
        "id": "x-lUsV2mp1ck"
      },
      "source": [
        "Answer Here"
      ]
    },
    {
      "cell_type": "markdown",
      "metadata": {
        "id": "M7G43BXep1ck"
      },
      "source": [
        "##### 3. Will the gained insights help creating a positive business impact?\n",
        "Are there any insights that lead to negative growth? Justify with specific reason."
      ]
    },
    {
      "cell_type": "markdown",
      "metadata": {
        "id": "5wwDJXsLp1cl"
      },
      "source": [
        "Answer Here"
      ]
    },
    {
      "cell_type": "markdown",
      "metadata": {
        "id": "Ag9LCva-p1cl"
      },
      "source": [
        "#### Chart - 13"
      ]
    },
    {
      "cell_type": "code",
      "execution_count": null,
      "metadata": {
        "id": "EUfxeq9-p1cl"
      },
      "outputs": [],
      "source": [
        "# Chart - 13 visualization code"
      ]
    },
    {
      "cell_type": "markdown",
      "metadata": {
        "id": "E6MkPsBcp1cl"
      },
      "source": [
        "##### 1. Why did you pick the specific chart?"
      ]
    },
    {
      "cell_type": "markdown",
      "metadata": {
        "id": "V22bRsFWp1cl"
      },
      "source": [
        "Answer Here."
      ]
    },
    {
      "cell_type": "markdown",
      "metadata": {
        "id": "2cELzS2fp1cl"
      },
      "source": [
        "##### 2. What is/are the insight(s) found from the chart?"
      ]
    },
    {
      "cell_type": "markdown",
      "metadata": {
        "id": "ozQPc2_Ip1cl"
      },
      "source": [
        "Answer Here"
      ]
    },
    {
      "cell_type": "markdown",
      "metadata": {
        "id": "3MPXvC8up1cl"
      },
      "source": [
        "##### 3. Will the gained insights help creating a positive business impact?\n",
        "Are there any insights that lead to negative growth? Justify with specific reason."
      ]
    },
    {
      "cell_type": "markdown",
      "metadata": {
        "id": "GL8l1tdLp1cl"
      },
      "source": [
        "Answer Here"
      ]
    },
    {
      "cell_type": "markdown",
      "metadata": {
        "id": "NC_X3p0fY2L0"
      },
      "source": [
        "#### Chart - 14 - Correlation Heatmap"
      ]
    },
    {
      "cell_type": "code",
      "execution_count": null,
      "metadata": {
        "id": "xyC9zolEZNRQ"
      },
      "outputs": [],
      "source": [
        "# Correlation Heatmap visualization code"
      ]
    },
    {
      "cell_type": "markdown",
      "metadata": {
        "id": "UV0SzAkaZNRQ"
      },
      "source": [
        "##### 1. Why did you pick the specific chart?"
      ]
    },
    {
      "cell_type": "markdown",
      "metadata": {
        "id": "DVPuT8LYZNRQ"
      },
      "source": [
        "Answer Here."
      ]
    },
    {
      "cell_type": "markdown",
      "metadata": {
        "id": "YPEH6qLeZNRQ"
      },
      "source": [
        "##### 2. What is/are the insight(s) found from the chart?"
      ]
    },
    {
      "cell_type": "markdown",
      "metadata": {
        "id": "bfSqtnDqZNRR"
      },
      "source": [
        "Answer Here"
      ]
    },
    {
      "cell_type": "markdown",
      "metadata": {
        "id": "q29F0dvdveiT"
      },
      "source": [
        "#### Chart - 15 - Pair Plot"
      ]
    },
    {
      "cell_type": "code",
      "execution_count": null,
      "metadata": {
        "id": "o58-TEIhveiU"
      },
      "outputs": [],
      "source": [
        "# Pair Plot visualization code"
      ]
    },
    {
      "cell_type": "markdown",
      "metadata": {
        "id": "EXh0U9oCveiU"
      },
      "source": [
        "##### 1. Why did you pick the specific chart?"
      ]
    },
    {
      "cell_type": "markdown",
      "metadata": {
        "id": "eMmPjTByveiU"
      },
      "source": [
        "Answer Here."
      ]
    },
    {
      "cell_type": "markdown",
      "metadata": {
        "id": "22aHeOlLveiV"
      },
      "source": [
        "##### 2. What is/are the insight(s) found from the chart?"
      ]
    },
    {
      "cell_type": "markdown",
      "metadata": {
        "id": "uPQ8RGwHveiV"
      },
      "source": [
        "Answer Here"
      ]
    },
    {
      "cell_type": "markdown",
      "metadata": {
        "id": "JcMwzZxoAimU"
      },
      "source": [
        "## **5. Solution to Business Objective**"
      ]
    },
    {
      "cell_type": "markdown",
      "metadata": {
        "id": "8G2x9gOozGDZ"
      },
      "source": [
        "#### What do you suggest the client to achieve Business Objective ?\n",
        "Explain Briefly."
      ]
    },
    {
      "cell_type": "markdown",
      "metadata": {
        "id": "pASKb0qOza21"
      },
      "source": [
        "Answer Here."
      ]
    },
    {
      "cell_type": "markdown",
      "metadata": {
        "id": "gCX9965dhzqZ"
      },
      "source": [
        "# **Conclusion**"
      ]
    },
    {
      "cell_type": "markdown",
      "metadata": {
        "id": "Fjb1IsQkh3yE"
      },
      "source": [
        "This Bird Species Observation Analysis provided valuable insights into the diversity and distribution of bird species across forest and grassland ecosystems. The dataset revealed clear patterns of habitat preference — some species are strongly associated with forests, while others thrive in grasslands. Visualizations like the species–ecosystem frequency map helped identify which habitats host the highest variety of species, highlighting biodiversity hotspots.\n",
        "\n",
        "These findings can guide conservation efforts by showing where protection and monitoring are most needed. For example, forest-rich areas with high species diversity might be prioritized for habitat preservation, while grassland regions with low diversity may benefit from restoration initiatives.\n",
        "\n",
        "From a broader perspective, this analysis can support eco-tourism planning, educational programs, and environmental policy-making — turning data into actionable strategies that benefit both wildlife and local communities."
      ]
    },
    {
      "cell_type": "markdown",
      "metadata": {
        "id": "gIfDvo9L0UH2"
      },
      "source": [
        "### ***Hurrah! You have successfully completed your EDA Capstone Project !!!***"
      ]
    },
    {
      "cell_type": "code",
      "execution_count": null,
      "metadata": {
        "id": "dYX880etpL0x"
      },
      "outputs": [],
      "source": []
    },
    {
      "cell_type": "code",
      "execution_count": null,
      "metadata": {
        "id": "-6Vl263upPVI"
      },
      "outputs": [],
      "source": []
    }
  ],
  "metadata": {
    "colab": {
      "collapsed_sections": [
        "vncDsAP0Gaoa",
        "FJNUwmbgGyua",
        "w6K7xa23Elo4",
        "yQaldy8SH6Dl",
        "PH-0ReGfmX4f",
        "mDgbUHAGgjLW",
        "O_i_v8NEhb9l",
        "HhfV-JJviCcP",
        "Y3lxredqlCYt",
        "3RnN4peoiCZX",
        "x71ZqKXriCWQ",
        "7hBIi_osiCS2",
        "JlHwYmJAmNHm",
        "35m5QtbWiB9F",
        "PoPl-ycgm1ru",
        "H0kj-8xxnORC",
        "nA9Y7ga8ng1Z",
        "PBTbrJXOngz2",
        "u3PMJOP6ngxN",
        "dauF4eBmngu3",
        "bKJF3rekwFvQ",
        "MSa1f5Uengrz",
        "GF8Ens_Soomf",
        "0wOQAZs5pc--",
        "K5QZ13OEpz2H",
        "lQ7QKXXCp7Bj",
        "448CDAPjqfQr",
        "KSlN3yHqYklG",
        "t6dVpIINYklI",
        "ijmpgYnKYklI",
        "-JiQyfWJYklI",
        "EM7whBJCYoAo",
        "fge-S5ZAYoAp",
        "85gYPyotYoAp",
        "RoGjAbkUYoAp",
        "4Of9eVA-YrdM",
        "iky9q4vBYrdO",
        "F6T5p64dYrdO",
        "y-Ehk30pYrdP",
        "bamQiAODYuh1",
        "QHF8YVU7Yuh3",
        "GwzvFGzlYuh3",
        "qYpmQ266Yuh3",
        "OH-pJp9IphqM",
        "bbFf2-_FphqN",
        "_ouA3fa0phqN",
        "Seke61FWphqN",
        "PIIx-8_IphqN",
        "t27r6nlMphqO",
        "r2jJGEOYphqO",
        "b0JNsNcRphqO",
        "BZR9WyysphqO",
        "jj7wYXLtphqO",
        "eZrbJ2SmphqO",
        "rFu4xreNphqO",
        "YJ55k-q6phqO",
        "gCFgpxoyphqP",
        "OVtJsKN_phqQ",
        "lssrdh5qphqQ",
        "U2RJ9gkRphqQ",
        "1M8mcRywphqQ",
        "tgIPom80phqQ",
        "JMzcOPDDphqR",
        "x-EpHcCOp1ci",
        "X_VqEhTip1ck",
        "8zGJKyg5p1ck",
        "PVzmfK_Ep1ck",
        "n3dbpmDWp1ck",
        "ylSl6qgtp1ck",
        "ZWILFDl5p1ck",
        "M7G43BXep1ck",
        "Ag9LCva-p1cl",
        "E6MkPsBcp1cl",
        "2cELzS2fp1cl",
        "3MPXvC8up1cl",
        "NC_X3p0fY2L0",
        "UV0SzAkaZNRQ",
        "YPEH6qLeZNRQ",
        "q29F0dvdveiT",
        "EXh0U9oCveiU",
        "22aHeOlLveiV",
        "JcMwzZxoAimU",
        "8G2x9gOozGDZ",
        "gCX9965dhzqZ",
        "gIfDvo9L0UH2"
      ],
      "private_outputs": true,
      "provenance": []
    },
    "kernelspec": {
      "display_name": "Python 3",
      "name": "python3"
    },
    "language_info": {
      "codemirror_mode": {
        "name": "ipython",
        "version": 3
      },
      "file_extension": ".py",
      "mimetype": "text/x-python",
      "name": "python",
      "nbconvert_exporter": "python",
      "pygments_lexer": "ipython3",
      "version": "3.13.4"
    }
  },
  "nbformat": 4,
  "nbformat_minor": 0
}
